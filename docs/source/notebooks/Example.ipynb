{
 "cells": [
  {
   "cell_type": "markdown",
   "metadata": {},
   "source": [
    "# Placeholder Example\n",
    "Any notebooks in this \"examples\" folder will be executed in the test suite by `tests/test_notebooks.py` and then copied to `docs/source/notebooks` where they can be rendered by `nbsphinx` and included in the documentation.\n",
    "* To add a notebook to the documentation, included it in the `.. toctree::` in `docs/source/examples.rst`"
   ]
  },
  {
   "cell_type": "code",
   "execution_count": null,
   "metadata": {},
   "outputs": [],
   "source": []
  }
 ],
 "metadata": {
  "kernelspec": {
   "display_name": "Python 3",
   "language": "python",
   "name": "python3"
  },
  "language_info": {
   "codemirror_mode": "r",
   "file_extension": ".r",
   "mimetype": "text/x-r-source",
   "name": "R",
   "pygments_lexer": "r",
   "version": "3.4.3"
  }
 },
 "nbformat": 4,
 "nbformat_minor": 4
}
