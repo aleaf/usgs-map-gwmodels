{
 "cells": [
  {
   "cell_type": "markdown",
   "metadata": {},
   "source": [
    "# Demo of USGS-MAP-gwmodels\n",
    "This page demonstrates some of the core features of USGS-MAP-gwmodel obs, applied to the Mississippi Delta inset model area. Specifically:\n",
    "\n",
    "* setup of model layering and property zones by combining voxel-based hydrogeologic facies derived from an airborne electromagnetic (AEM) survey (Burton and others, 2020) with traditional raster surfaces denoting hydrogeologic contacts (Hart and others, 2008)\n",
    "* culling of NetCDF-based infiltration data (Westenbroek and others, 2020) to the model area, and aggregation to monthly values\n",
    "* preprocessing of streamflow timeseries for use as specified inflows to the SFR package, or streamflow observations\n",
    "* preprocessing of head observations\n",
    "* preprocessing of water use data, including:\n",
    "    * estimates of agricultural water use (Wilson, 2020)\n",
    "    * non-agricultulral water use data from the USGS\n",
    "\n",
    "[Cited References](https://aleaf.github.io/usgs-map-gwmodels/references.html)"
   ]
  },
  {
   "cell_type": "code",
   "execution_count": 1,
   "metadata": {
    "execution": {
     "iopub.execute_input": "2020-10-07T20:36:12.566262Z",
     "iopub.status.busy": "2020-10-07T20:36:12.565559Z",
     "iopub.status.idle": "2020-10-07T20:36:13.585224Z",
     "shell.execute_reply": "2020-10-07T20:36:13.584185Z"
    }
   },
   "outputs": [],
   "source": [
    "from pathlib import Path\n",
    "import numpy as np\n",
    "import pandas as pd\n",
    "import xarray as xr\n",
    "import matplotlib.pyplot as plt\n",
    "import matplotlib as mpl\n",
    "from mfsetup.grid import MFsetupGrid"
   ]
  },
  {
   "cell_type": "markdown",
   "metadata": {},
   "source": [
    "## Define some global inputs"
   ]
  },
  {
   "cell_type": "code",
   "execution_count": 2,
   "metadata": {
    "execution": {
     "iopub.execute_input": "2020-10-07T20:36:13.591640Z",
     "iopub.status.busy": "2020-10-07T20:36:13.591226Z",
     "iopub.status.idle": "2020-10-07T20:36:13.594951Z",
     "shell.execute_reply": "2020-10-07T20:36:13.594089Z"
    }
   },
   "outputs": [],
   "source": [
    "test_data_path = Path('../mapgwm/tests/data')\n",
    "output_folder = Path('output')\n",
    "output_folder.mkdir(exist_ok=True)  # make the output folder if it doesn't exist\n",
    "\n",
    "# ms delta geographic extent\n",
    "delta_extent = test_data_path / 'extents/ms_delta.shp'\n",
    "\n",
    "# simulation start date\n",
    "start_date='1998-04-01'\n",
    "\n",
    "# model grid for the MS Delta inset model\n",
    "ncol=270\n",
    "nrow=605\n",
    "dxy=500.\n",
    "delr = np.ones(ncol) * dxy\n",
    "delc = np.ones(nrow) * dxy\n",
    "delta_inset_model_grid = MFsetupGrid(delc, delr, top=None, botm=None,\n",
    "                                     lenuni=2, epsg=5070,\n",
    "                                     xoff=434955, yoff=1040285, angrot=0.0)\n",
    "\n",
    "# shapefile with polygons to group observations by geographic area\n",
    "geographic_groups = [test_data_path / 'extents/CompositeHydrographArea.shp',\n",
    "                     test_data_path / 'extents/MAP_generalized_regions.shp'\n",
    "                     ]"
   ]
  },
  {
   "cell_type": "markdown",
   "metadata": {},
   "source": [
    "## Set up the model layering and property zones\n",
    "from AEM-based voxel data and raster surfaces of hydrogeologic contacts"
   ]
  },
  {
   "cell_type": "code",
   "execution_count": 3,
   "metadata": {
    "execution": {
     "iopub.execute_input": "2020-10-07T20:36:13.599403Z",
     "iopub.status.busy": "2020-10-07T20:36:13.598982Z",
     "iopub.status.idle": "2020-10-07T20:36:13.602190Z",
     "shell.execute_reply": "2020-10-07T20:36:13.601854Z"
    }
   },
   "outputs": [],
   "source": [
    "# mean dem values for each 1 km gridcell, elevation units of feet\n",
    "dem_means_raster = test_data_path / 'rasters/dem_mean_elevs_1000.tif'\n",
    "\n",
    "# AEM electrical resistivity-based facies classes from tempest and resolve surveys\n",
    "# (All facies classes version)\n",
    "facies_classes_netcdf = test_data_path / 'netcdf/RSTM_res_fac_depth_15m.nc'\n",
    "\n",
    "# Original MERAS framework (1 mi resolution), elevation units of feet\n",
    "framework_rasters = [\n",
    "    test_data_path / 'rasters/vkbg_surf.tif',  # Vicksburg-Jackson Group (top)\n",
    "    test_data_path / 'rasters/ucaq_surf.tif',  # Upper Claiborne aquifer (top)\n",
    "    test_data_path / 'rasters/mccu_surf.tif',  # Middle Claiborne confining unit (t\n",
    "    test_data_path / 'rasters/mcaq_surf.tif',  # Middle Claiborne aquifer (top)\n",
    "    test_data_path / 'rasters/lccu_surf.tif',  # Lower Claiborne confining unit (to\n",
    "    test_data_path / 'rasters/lcaq_surf.tif',  # Lower Claiborne aquifer (top)\n",
    "    test_data_path / 'rasters/mwaq_surf.tif',  # Middle Wilcox aquifer (top)\n",
    "    test_data_path / 'rasters/lwaq_surf.tif',  # Lower Wilcox aquifer (top)\n",
    "    test_data_path / 'rasters/mdwy_surf.tif',  # Midway confining unit (top)\n",
    "]\n",
    "framework_unit_names = [\n",
    "    'Undifferentiated sediments\\nabove the Vicksburg',\n",
    "    'Vicksburg-Jackson Group',\n",
    "    'Upper Claiborne aquifer',\n",
    "    'Middle Claiborne confining unit',\n",
    "    'Middle Claiborne aquifer',\n",
    "    'Lower Claiborne confining unit',\n",
    "    'Lower Claiborne aquifer',\n",
    "    'Middle Wilcox aquifer',\n",
    "    'Lower Wilcox aquifer'\n",
    "]\n"
   ]
  },
  {
   "cell_type": "code",
   "execution_count": 4,
   "metadata": {
    "execution": {
     "iopub.execute_input": "2020-10-07T20:36:13.606415Z",
     "iopub.status.busy": "2020-10-07T20:36:13.605616Z",
     "iopub.status.idle": "2020-10-07T20:37:11.305225Z",
     "shell.execute_reply": "2020-10-07T20:37:11.304440Z"
    }
   },
   "outputs": [
    {
     "name": "stdout",
     "output_type": "stream",
     "text": [
      "reading data from ../mapgwm/tests/data/rasters/dem_mean_elevs_1000.tif...\n",
      "finished in 0.05s\n",
      "reading data from ../mapgwm/tests/data/rasters/vkbg_surf.tif...\n",
      "finished in 0.02s\n",
      "reading data from ../mapgwm/tests/data/rasters/ucaq_surf.tif...\n",
      "finished in 0.02s\n",
      "reading data from ../mapgwm/tests/data/rasters/mccu_surf.tif...\n",
      "finished in 0.02s\n",
      "reading data from ../mapgwm/tests/data/rasters/mcaq_surf.tif...\n",
      "finished in 0.03s\n",
      "reading data from ../mapgwm/tests/data/rasters/lccu_surf.tif...\n",
      "finished in 0.02s\n",
      "reading data from ../mapgwm/tests/data/rasters/lcaq_surf.tif...\n",
      "finished in 0.03s\n",
      "reading data from ../mapgwm/tests/data/rasters/mwaq_surf.tif...\n",
      "finished in 0.02s\n",
      "reading data from ../mapgwm/tests/data/rasters/lwaq_surf.tif...\n",
      "finished in 0.02s\n",
      "reading data from ../mapgwm/tests/data/rasters/mdwy_surf.tif...\n",
      "finished in 0.02s\n",
      "computing cell thicknesses...\n",
      "finished in 5.95s\n",
      "\n",
      "computing cell thicknesses...\n",
      "finished in 13.64s\n",
      "\n",
      "wrote output/botm_array/model_top.tif\n",
      "wrote output/botm_array/botm0.tif\n",
      "wrote output/botm_array/botm1.tif\n",
      "wrote output/botm_array/botm2.tif\n",
      "wrote output/botm_array/botm3.tif\n",
      "wrote output/botm_array/botm4.tif\n",
      "wrote output/botm_array/botm5.tif\n",
      "wrote output/botm_array/botm6.tif\n",
      "wrote output/botm_array/botm7.tif\n",
      "wrote output/botm_array/botm8.tif\n",
      "wrote output/botm_array/botm9.tif\n",
      "wrote output/botm_array/botm10.tif\n",
      "wrote output/botm_array/botm11.tif\n",
      "wrote output/botm_array/botm12.tif\n",
      "wrote output/botm_array/botm13.tif\n",
      "wrote output/botm_array/botm14.tif\n",
      "wrote output/botm_array/botm15.tif\n",
      "wrote output/botm_array/botm16.tif\n",
      "wrote output/botm_array/botm17.tif\n",
      "wrote output/botm_array/botm18.tif\n",
      "wrote output/botm_array/botm19.tif\n",
      "wrote output/botm_array/botm20.tif\n",
      "wrote output/botm_array/botm21.tif\n",
      "wrote output/botm_array/botm22.tif\n",
      "wrote output/botm_array/botm23.tif\n",
      "wrote output/botm_array/botm24.tif\n",
      "wrote output/botm_array/botm25.tif\n",
      "wrote output/botm_array/botm26.tif\n",
      "wrote output/botm_array/botm27.tif\n",
      "wrote output/botm_array/botm28.tif\n",
      "wrote output/botm_array/botm29.tif\n",
      "wrote output/botm_array/botm30.tif\n",
      "wrote output/zones/rasters/res_fac0.tif\n",
      "wrote output/zones/rasters/res_fac1.tif\n",
      "wrote output/zones/rasters/res_fac2.tif\n",
      "wrote output/zones/rasters/res_fac3.tif\n",
      "wrote output/zones/rasters/res_fac4.tif\n",
      "wrote output/zones/rasters/res_fac5.tif\n",
      "wrote output/zones/rasters/res_fac6.tif\n",
      "wrote output/zones/rasters/res_fac7.tif\n",
      "wrote output/zones/rasters/res_fac8.tif\n",
      "wrote output/zones/rasters/res_fac9.tif\n",
      "wrote output/zones/rasters/res_fac10.tif\n",
      "wrote output/zones/rasters/res_fac11.tif\n",
      "wrote output/zones/rasters/res_fac12.tif\n",
      "wrote output/zones/rasters/res_fac13.tif\n",
      "wrote output/zones/rasters/res_fac14.tif\n",
      "wrote output/zones/rasters/res_fac15.tif\n",
      "wrote output/zones/rasters/res_fac16.tif\n",
      "wrote output/zones/rasters/res_fac17.tif\n",
      "wrote output/zones/rasters/res_fac18.tif\n",
      "wrote output/zones/rasters/res_fac19.tif\n",
      "wrote output/zones/rasters/res_fac20.tif\n",
      "wrote output/zones/rasters/res_fac21.tif\n",
      "wrote output/zones/rasters/res_fac22.tif\n",
      "wrote output/zones/rasters/res_fac23.tif\n"
     ]
    }
   ],
   "source": [
    "from mapgwm.framework import setup_model_layers, plot_slice\n",
    "\n",
    "layers, zone_array = setup_model_layers(dem_means_raster,\n",
    "                                        facies_classes_netcdf,\n",
    "                                        framework_rasters,\n",
    "                                        delta_inset_model_grid,\n",
    "                                        facies_class_variable='fac_a',  # variable in facies_classes_netcdf with facies zones\n",
    "                                        dem_elevation_units='feet',\n",
    "                                        framework_raster_elevation_units='feet',\n",
    "                                        model_length_units='meters', output_folder=output_folder,\n",
    "                                        framework_unit_names=framework_unit_names)"
   ]
  },
  {
   "cell_type": "markdown",
   "metadata": {},
   "source": [
    "### Plot a cross section slice"
   ]
  },
  {
   "cell_type": "code",
   "execution_count": 5,
   "metadata": {
    "execution": {
     "iopub.execute_input": "2020-10-07T20:37:11.308965Z",
     "iopub.status.busy": "2020-10-07T20:37:11.308571Z",
     "iopub.status.idle": "2020-10-07T20:37:11.311951Z",
     "shell.execute_reply": "2020-10-07T20:37:11.311598Z"
    }
   },
   "outputs": [],
   "source": [
    "framework_unit_labels = dict(zip(range(13, 32), framework_unit_names))"
   ]
  },
  {
   "cell_type": "code",
   "execution_count": 6,
   "metadata": {
    "execution": {
     "iopub.execute_input": "2020-10-07T20:37:11.328781Z",
     "iopub.status.busy": "2020-10-07T20:37:11.315321Z",
     "iopub.status.idle": "2020-10-07T20:37:11.795952Z",
     "shell.execute_reply": "2020-10-07T20:37:11.795515Z"
    }
   },
   "outputs": [
    {
     "data": {
      "text/plain": [
       "<AxesSubplot:title={'center':'Row 100'}, xlabel='Column in model', ylabel='Elevation, in meters'>"
      ]
     },
     "execution_count": 1,
     "metadata": {},
     "output_type": "execute_result"
    },
    {
     "data": {
      "image/png": "[encoded data removed]",
      "text/plain": [
       "<Figure size 792x612 with 2 Axes>"
      ]
     },
     "metadata": {
      "needs_background": "light"
     },
     "output_type": "display_data"
    }
   ],
   "source": [
    "plot_slice(layers, property_data=zone_array,\n",
    "           row=100, column=slice(None),\n",
    "           voxel_start_layer=0, voxel_zones=np.arange(1, 21), cmap='copper',\n",
    "           voxel_cmap='viridis', unit_labels=framework_unit_labels)"
   ]
  },
  {
   "cell_type": "markdown",
   "metadata": {},
   "source": [
    "## Preprocess recharge\n",
    "Chop the SWB source data down to the model area and aggregate daily values to monthly means"
   ]
  },
  {
   "cell_type": "code",
   "execution_count": 7,
   "metadata": {
    "execution": {
     "iopub.execute_input": "2020-10-07T20:37:11.800825Z",
     "iopub.status.busy": "2020-10-07T20:37:11.799847Z",
     "iopub.status.idle": "2020-10-07T20:37:11.952430Z",
     "shell.execute_reply": "2020-10-07T20:37:11.952062Z"
    }
   },
   "outputs": [
    {
     "name": "stdout",
     "output_type": "stream",
     "text": [
      "opening ../mapgwm/tests/data/swb/delta_swb_summer2018.nc...\n",
      "culling to bounding box: (434955.0, 1040285.0, 569955.0, 1342785.0)\n",
      "Aggregating to monthly values...\n",
      "wrote output/swb_monthly_means.nc\n",
      "took 0.13s\n",
      "\n",
      "checking compressed file\n",
      "finished in 0.15s\n",
      "\n"
     ]
    }
   ],
   "source": [
    "from mapgwm.swb import get_monthly_means\n",
    "\n",
    "data_file = test_data_path / 'swb/delta_swb_summer2018.nc'\n",
    "\n",
    "# output\n",
    "outputfile = output_folder / 'swb_monthly_means.nc'\n",
    "\n",
    "# get the monthly means\n",
    "get_monthly_means(data_file, outfile=outputfile,\n",
    "                  filter=delta_inset_model_grid.bounds, check_results=True)"
   ]
  },
  {
   "cell_type": "code",
   "execution_count": 8,
   "metadata": {
    "execution": {
     "iopub.execute_input": "2020-10-07T20:37:11.957755Z",
     "iopub.status.busy": "2020-10-07T20:37:11.957096Z",
     "iopub.status.idle": "2020-10-07T20:37:12.199421Z",
     "shell.execute_reply": "2020-10-07T20:37:12.199056Z"
    }
   },
   "outputs": [
    {
     "data": {
      "image/png": "[encoded data removed]",
      "text/plain": [
       "<Figure size 792x612 with 2 Axes>"
      ]
     },
     "metadata": {
      "needs_background": "light"
     },
     "output_type": "display_data"
    }
   ],
   "source": [
    "with xr.open_dataset(outputfile) as ds:\n",
    "    fig, ax = plt.subplots(figsize=(11, 8.5))\n",
    "    ds['net_infiltration'].sel(time='2018-08').plot(ax=ax, vmax=ds['net_infiltration'].quantile(0.95))\n",
    "    ax.set_aspect(1)"
   ]
  },
  {
   "cell_type": "markdown",
   "metadata": {},
   "source": [
    "## Preprocess streamflow data for specified inflows to the SFR package"
   ]
  },
  {
   "cell_type": "code",
   "execution_count": 9,
   "metadata": {
    "execution": {
     "iopub.execute_input": "2020-10-07T20:37:12.203742Z",
     "iopub.status.busy": "2020-10-07T20:37:12.203334Z",
     "iopub.status.idle": "2020-10-07T20:37:12.213721Z",
     "shell.execute_reply": "2020-10-07T20:37:12.213204Z"
    }
   },
   "outputs": [],
   "source": [
    "from mapgwm.swflows import preprocess_flows\n",
    "\n",
    "streamflow_data_file = test_data_path / 'swflows/13Feb2020_rf_output_with_site_numbers.csv'\n",
    "streamflow_data = pd.read_csv(streamflow_data_file)\n",
    "\n",
    "# only include flows that are inflows (exclude observations)\n",
    "include_line_ids = set(streamflow_data.loc[streamflow_data.group == 'meras-inflows', 'comid'])\n",
    "\n",
    "outfile = output_folder / 'processed_inflows.csv'"
   ]
  },
  {
   "cell_type": "code",
   "execution_count": 10,
   "metadata": {
    "execution": {
     "iopub.execute_input": "2020-10-07T20:37:12.222477Z",
     "iopub.status.busy": "2020-10-07T20:37:12.221793Z",
     "iopub.status.idle": "2020-10-07T20:37:12.230342Z",
     "shell.execute_reply": "2020-10-07T20:37:12.229976Z"
    }
   },
   "outputs": [
    {
     "data": {
      "text/html": [
       "<div>\n",
       "<style scoped>\n",
       "    .dataframe tbody tr th:only-of-type {\n",
       "        vertical-align: middle;\n",
       "    }\n",
       "\n",
       "    .dataframe tbody tr th {\n",
       "        vertical-align: top;\n",
       "    }\n",
       "\n",
       "    .dataframe thead th {\n",
       "        text-align: right;\n",
       "    }\n",
       "</style>\n",
       "<table border=\"1\" class=\"dataframe\">\n",
       "  <thead>\n",
       "    <tr style=\"text-align: right;\">\n",
       "      <th></th>\n",
       "      <th>site_no</th>\n",
       "      <th>comid</th>\n",
       "      <th>datetime</th>\n",
       "      <th>name</th>\n",
       "      <th>group</th>\n",
       "      <th>X</th>\n",
       "      <th>Y</th>\n",
       "      <th>predicted_bf</th>\n",
       "      <th>predicted_total_flow</th>\n",
       "      <th>category</th>\n",
       "    </tr>\n",
       "  </thead>\n",
       "  <tbody>\n",
       "    <tr>\n",
       "      <th>0</th>\n",
       "      <td>07277700</td>\n",
       "      <td>15251676</td>\n",
       "      <td>2007-02-01</td>\n",
       "      <td>HICKAHALA CREEK NR SENATOBIA, MS</td>\n",
       "      <td>meras-observations</td>\n",
       "      <td>-89.7839</td>\n",
       "      <td>34.6394</td>\n",
       "      <td>82.1099</td>\n",
       "      <td>107.1910</td>\n",
       "      <td>estimated</td>\n",
       "    </tr>\n",
       "    <tr>\n",
       "      <th>1</th>\n",
       "      <td>07277700</td>\n",
       "      <td>15251676</td>\n",
       "      <td>2007-03-01</td>\n",
       "      <td>HICKAHALA CREEK NR SENATOBIA, MS</td>\n",
       "      <td>meras-observations</td>\n",
       "      <td>-89.7839</td>\n",
       "      <td>34.6394</td>\n",
       "      <td>75.3402</td>\n",
       "      <td>85.2905</td>\n",
       "      <td>estimated</td>\n",
       "    </tr>\n",
       "    <tr>\n",
       "      <th>2</th>\n",
       "      <td>07277700</td>\n",
       "      <td>15251676</td>\n",
       "      <td>2007-04-01</td>\n",
       "      <td>HICKAHALA CREEK NR SENATOBIA, MS</td>\n",
       "      <td>meras-observations</td>\n",
       "      <td>-89.7839</td>\n",
       "      <td>34.6394</td>\n",
       "      <td>46.6768</td>\n",
       "      <td>80.6870</td>\n",
       "      <td>estimated</td>\n",
       "    </tr>\n",
       "    <tr>\n",
       "      <th>3</th>\n",
       "      <td>07277700</td>\n",
       "      <td>15251676</td>\n",
       "      <td>2007-05-01</td>\n",
       "      <td>HICKAHALA CREEK NR SENATOBIA, MS</td>\n",
       "      <td>meras-observations</td>\n",
       "      <td>-89.7839</td>\n",
       "      <td>34.6394</td>\n",
       "      <td>41.8452</td>\n",
       "      <td>49.2666</td>\n",
       "      <td>estimated</td>\n",
       "    </tr>\n",
       "    <tr>\n",
       "      <th>4</th>\n",
       "      <td>07277700</td>\n",
       "      <td>15251676</td>\n",
       "      <td>2007-06-01</td>\n",
       "      <td>HICKAHALA CREEK NR SENATOBIA, MS</td>\n",
       "      <td>meras-observations</td>\n",
       "      <td>-89.7839</td>\n",
       "      <td>34.6394</td>\n",
       "      <td>37.1356</td>\n",
       "      <td>47.5411</td>\n",
       "      <td>estimated</td>\n",
       "    </tr>\n",
       "  </tbody>\n",
       "</table>\n",
       "</div>"
      ],
      "text/plain": [
       "    site_no     comid    datetime                              name  \\\n",
       "0  07277700  15251676  2007-02-01  HICKAHALA CREEK NR SENATOBIA, MS   \n",
       "1  07277700  15251676  2007-03-01  HICKAHALA CREEK NR SENATOBIA, MS   \n",
       "2  07277700  15251676  2007-04-01  HICKAHALA CREEK NR SENATOBIA, MS   \n",
       "3  07277700  15251676  2007-05-01  HICKAHALA CREEK NR SENATOBIA, MS   \n",
       "4  07277700  15251676  2007-06-01  HICKAHALA CREEK NR SENATOBIA, MS   \n",
       "\n",
       "                group        X        Y  predicted_bf  predicted_total_flow  \\\n",
       "0  meras-observations -89.7839  34.6394       82.1099              107.1910   \n",
       "1  meras-observations -89.7839  34.6394       75.3402               85.2905   \n",
       "2  meras-observations -89.7839  34.6394       46.6768               80.6870   \n",
       "3  meras-observations -89.7839  34.6394       41.8452               49.2666   \n",
       "4  meras-observations -89.7839  34.6394       37.1356               47.5411   \n",
       "\n",
       "    category  \n",
       "0  estimated  \n",
       "1  estimated  \n",
       "2  estimated  \n",
       "3  estimated  \n",
       "4  estimated  "
      ]
     },
     "execution_count": 1,
     "metadata": {},
     "output_type": "execute_result"
    }
   ],
   "source": [
    "streamflow_data.head()"
   ]
  },
  {
   "cell_type": "code",
   "execution_count": 11,
   "metadata": {
    "execution": {
     "iopub.execute_input": "2020-10-07T20:37:12.234767Z",
     "iopub.status.busy": "2020-10-07T20:37:12.234146Z",
     "iopub.status.idle": "2020-10-07T20:37:12.325504Z",
     "shell.execute_reply": "2020-10-07T20:37:12.325141Z"
    }
   },
   "outputs": [
    {
     "name": "stdout",
     "output_type": "stream",
     "text": [
      "writing output/processed_inflows_info.shp...\n",
      "writing output/processed_inflows_info.csv\n",
      "writing output/processed_inflows.csv\n"
     ]
    }
   ],
   "source": [
    "data, metadata = preprocess_flows(streamflow_data, flow_data_columns=['predicted_total_flow', 'predicted_bf'],\n",
    "                                  include_line_ids=include_line_ids,\n",
    "                                  start_date=start_date,\n",
    "                                  datetime_col='datetime', \n",
    "                                  site_no_col='site_no',\n",
    "                                  line_id_col='comid',\n",
    "                                  x_coord_col='X',\n",
    "                                  y_coord_col='Y',\n",
    "                                  outfile=outfile\n",
    "                                  )"
   ]
  },
  {
   "cell_type": "code",
   "execution_count": 12,
   "metadata": {
    "execution": {
     "iopub.execute_input": "2020-10-07T20:37:12.334296Z",
     "iopub.status.busy": "2020-10-07T20:37:12.333921Z",
     "iopub.status.idle": "2020-10-07T20:37:12.337903Z",
     "shell.execute_reply": "2020-10-07T20:37:12.337489Z"
    }
   },
   "outputs": [
    {
     "data": {
      "text/html": [
       "<div>\n",
       "<style scoped>\n",
       "    .dataframe tbody tr th:only-of-type {\n",
       "        vertical-align: middle;\n",
       "    }\n",
       "\n",
       "    .dataframe tbody tr th {\n",
       "        vertical-align: top;\n",
       "    }\n",
       "\n",
       "    .dataframe thead th {\n",
       "        text-align: right;\n",
       "    }\n",
       "</style>\n",
       "<table border=\"1\" class=\"dataframe\">\n",
       "  <thead>\n",
       "    <tr style=\"text-align: right;\">\n",
       "      <th></th>\n",
       "      <th>site_no</th>\n",
       "      <th>datetime</th>\n",
       "      <th>predicted_total_flow</th>\n",
       "      <th>predicted_bf</th>\n",
       "      <th>category</th>\n",
       "    </tr>\n",
       "    <tr>\n",
       "      <th>datetime</th>\n",
       "      <th></th>\n",
       "      <th></th>\n",
       "      <th></th>\n",
       "      <th></th>\n",
       "      <th></th>\n",
       "    </tr>\n",
       "  </thead>\n",
       "  <tbody>\n",
       "    <tr>\n",
       "      <th>2007-02-01</th>\n",
       "      <td>none</td>\n",
       "      <td>2007-02-01</td>\n",
       "      <td>5.175779e+06</td>\n",
       "      <td>4.458664e+06</td>\n",
       "      <td>measured</td>\n",
       "    </tr>\n",
       "    <tr>\n",
       "      <th>2007-03-01</th>\n",
       "      <td>none</td>\n",
       "      <td>2007-03-01</td>\n",
       "      <td>2.497954e+06</td>\n",
       "      <td>1.873441e+06</td>\n",
       "      <td>measured</td>\n",
       "    </tr>\n",
       "    <tr>\n",
       "      <th>2007-04-01</th>\n",
       "      <td>none</td>\n",
       "      <td>2007-04-01</td>\n",
       "      <td>3.820059e+06</td>\n",
       "      <td>2.017639e+06</td>\n",
       "      <td>measured</td>\n",
       "    </tr>\n",
       "    <tr>\n",
       "      <th>2007-05-01</th>\n",
       "      <td>none</td>\n",
       "      <td>2007-05-01</td>\n",
       "      <td>2.154971e+06</td>\n",
       "      <td>1.052037e+06</td>\n",
       "      <td>measured</td>\n",
       "    </tr>\n",
       "    <tr>\n",
       "      <th>2007-06-01</th>\n",
       "      <td>none</td>\n",
       "      <td>2007-06-01</td>\n",
       "      <td>1.437397e+06</td>\n",
       "      <td>5.956531e+05</td>\n",
       "      <td>measured</td>\n",
       "    </tr>\n",
       "  </tbody>\n",
       "</table>\n",
       "</div>"
      ],
      "text/plain": [
       "           site_no    datetime  predicted_total_flow  predicted_bf  category\n",
       "datetime                                                                    \n",
       "2007-02-01    none  2007-02-01          5.175779e+06  4.458664e+06  measured\n",
       "2007-03-01    none  2007-03-01          2.497954e+06  1.873441e+06  measured\n",
       "2007-04-01    none  2007-04-01          3.820059e+06  2.017639e+06  measured\n",
       "2007-05-01    none  2007-05-01          2.154971e+06  1.052037e+06  measured\n",
       "2007-06-01    none  2007-06-01          1.437397e+06  5.956531e+05  measured"
      ]
     },
     "execution_count": 1,
     "metadata": {},
     "output_type": "execute_result"
    }
   ],
   "source": [
    "data.head()"
   ]
  },
  {
   "cell_type": "code",
   "execution_count": 13,
   "metadata": {
    "execution": {
     "iopub.execute_input": "2020-10-07T20:37:12.347421Z",
     "iopub.status.busy": "2020-10-07T20:37:12.346803Z",
     "iopub.status.idle": "2020-10-07T20:37:12.350989Z",
     "shell.execute_reply": "2020-10-07T20:37:12.351288Z"
    }
   },
   "outputs": [
    {
     "data": {
      "text/html": [
       "<div>\n",
       "<style scoped>\n",
       "    .dataframe tbody tr th:only-of-type {\n",
       "        vertical-align: middle;\n",
       "    }\n",
       "\n",
       "    .dataframe tbody tr th {\n",
       "        vertical-align: top;\n",
       "    }\n",
       "\n",
       "    .dataframe thead th {\n",
       "        text-align: right;\n",
       "    }\n",
       "</style>\n",
       "<table border=\"1\" class=\"dataframe\">\n",
       "  <thead>\n",
       "    <tr style=\"text-align: right;\">\n",
       "      <th></th>\n",
       "      <th>start_dt</th>\n",
       "      <th>site_no</th>\n",
       "      <th>end_dt</th>\n",
       "      <th>n</th>\n",
       "      <th>x</th>\n",
       "      <th>y</th>\n",
       "      <th>line_id</th>\n",
       "      <th>name</th>\n",
       "      <th>geometry</th>\n",
       "      <th>obsprefix</th>\n",
       "      <th>group</th>\n",
       "    </tr>\n",
       "    <tr>\n",
       "      <th>site_no</th>\n",
       "      <th></th>\n",
       "      <th></th>\n",
       "      <th></th>\n",
       "      <th></th>\n",
       "      <th></th>\n",
       "      <th></th>\n",
       "      <th></th>\n",
       "      <th></th>\n",
       "      <th></th>\n",
       "      <th></th>\n",
       "      <th></th>\n",
       "    </tr>\n",
       "  </thead>\n",
       "  <tbody>\n",
       "    <tr>\n",
       "      <th>none</th>\n",
       "      <td>2007-02-01</td>\n",
       "      <td>none</td>\n",
       "      <td>2018-12-01</td>\n",
       "      <td>143</td>\n",
       "      <td>438600.380812</td>\n",
       "      <td>1.105540e+06</td>\n",
       "      <td>19274790</td>\n",
       "      <td>Tensas River</td>\n",
       "      <td>POINT (438600.3808115814 1105539.758365622)</td>\n",
       "      <td>none</td>\n",
       "      <td>fluxes</td>\n",
       "    </tr>\n",
       "  </tbody>\n",
       "</table>\n",
       "</div>"
      ],
      "text/plain": [
       "           start_dt site_no      end_dt    n              x             y  \\\n",
       "site_no                                                                     \n",
       "none     2007-02-01    none  2018-12-01  143  438600.380812  1.105540e+06   \n",
       "\n",
       "          line_id          name                                     geometry  \\\n",
       "site_no                                                                        \n",
       "none     19274790  Tensas River  POINT (438600.3808115814 1105539.758365622)   \n",
       "\n",
       "        obsprefix   group  \n",
       "site_no                    \n",
       "none         none  fluxes  "
      ]
     },
     "execution_count": 1,
     "metadata": {},
     "output_type": "execute_result"
    }
   ],
   "source": [
    "metadata.head()"
   ]
  },
  {
   "cell_type": "markdown",
   "metadata": {},
   "source": [
    "## Preprocess streamflow data for SFR package observations\n",
    "* Unlike the inflows, which are referenced by NHDPlus COMID, these all have site numbers\n",
    "* Additionally, we want to fill gaps in measured flow data with statistical estimates\n",
    "* The ``data`` DataFrame outputs have the time series; \n",
    "* The ``metadata`` DataFrame outputs have site information that can be input to **``modflow-setup``** to set up the observation input for MODFLOW-6."
   ]
  },
  {
   "cell_type": "code",
   "execution_count": 14,
   "metadata": {
    "execution": {
     "iopub.execute_input": "2020-10-07T20:37:12.356050Z",
     "iopub.status.busy": "2020-10-07T20:37:12.355540Z",
     "iopub.status.idle": "2020-10-07T20:37:12.357799Z",
     "shell.execute_reply": "2020-10-07T20:37:12.357386Z"
    }
   },
   "outputs": [],
   "source": [
    "# only include flows that are inflows (exclude observations)\n",
    "include_sites = set(streamflow_data.loc[streamflow_data.group == 'meras-observations', 'site_no'])\n",
    "\n",
    "outfile = output_folder / 'processed_flow_obs.csv'\n",
    "\n",
    "# rename these columns, if present\n",
    "column_renames = {'predicted_total_flow': 'qtotal_m3d',\n",
    "                  'predicted_bf': 'qbase_m3d',\n",
    "                  'qbase_cfs': 'qbase_m3d',\n",
    "                  'q_cfs': 'qtotal_m3d',\n",
    "                  'station_nm': 'name'}"
   ]
  },
  {
   "cell_type": "markdown",
   "metadata": {},
   "source": [
    "### preprocess the statistical estimates"
   ]
  },
  {
   "cell_type": "code",
   "execution_count": 15,
   "metadata": {
    "execution": {
     "iopub.execute_input": "2020-10-07T20:37:12.364485Z",
     "iopub.status.busy": "2020-10-07T20:37:12.363637Z",
     "iopub.status.idle": "2020-10-07T20:37:13.966938Z",
     "shell.execute_reply": "2020-10-07T20:37:13.966560Z"
    }
   },
   "outputs": [
    {
     "name": "stdout",
     "output_type": "stream",
     "text": [
      "\n",
      "reading ../mapgwm/tests/data/extents/ms_delta.shp...\n",
      "--> building dataframe... (may take a while for large shapefiles)\n",
      "Culling 7 wells outside of the model area defined by ['../mapgwm/tests/data/extents/ms_delta.shp'].\n",
      "\n",
      "reading ../mapgwm/tests/data/extents/MAP_generalized_regions.shp...\n",
      "--> building dataframe... (may take a while for large shapefiles)\n",
      "\n",
      "reading ../mapgwm/tests/data/extents/CompositeHydrographArea.shp...\n",
      "--> building dataframe... (may take a while for large shapefiles)\n"
     ]
    }
   ],
   "source": [
    "est_data, est_metadata = preprocess_flows(streamflow_data, flow_data_columns=['predicted_total_flow', 'predicted_bf'],\n",
    "                                          include_sites=include_sites,\n",
    "                                          start_date=start_date,\n",
    "                                          active_area=delta_extent,\n",
    "                                          datetime_col='datetime', \n",
    "                                          site_no_col='site_no',\n",
    "                                          line_id_col='comid',\n",
    "                                          x_coord_col='X',\n",
    "                                          y_coord_col='Y',\n",
    "                                          geographic_groups=geographic_groups,\n",
    "                                          geographic_groups_col='obsgroup',\n",
    "                                          flow_qualifier_column='category',\n",
    "                                          source_crs=4269,\n",
    "                                          dest_crs=5070,\n",
    "                                          source_volume_units='ft3',\n",
    "                                          source_time_units='s',\n",
    "                                          dest_volume_units='m3',\n",
    "                                          dest_time_units='d',\n",
    "                                          column_renames=column_renames,\n",
    "                                          outfile=None\n",
    "                                          )"
   ]
  },
  {
   "cell_type": "code",
   "execution_count": 16,
   "metadata": {
    "execution": {
     "iopub.execute_input": "2020-10-07T20:37:13.976146Z",
     "iopub.status.busy": "2020-10-07T20:37:13.975732Z",
     "iopub.status.idle": "2020-10-07T20:37:13.981341Z",
     "shell.execute_reply": "2020-10-07T20:37:13.980937Z"
    }
   },
   "outputs": [
    {
     "data": {
      "text/html": [
       "<div>\n",
       "<style scoped>\n",
       "    .dataframe tbody tr th:only-of-type {\n",
       "        vertical-align: middle;\n",
       "    }\n",
       "\n",
       "    .dataframe tbody tr th {\n",
       "        vertical-align: top;\n",
       "    }\n",
       "\n",
       "    .dataframe thead th {\n",
       "        text-align: right;\n",
       "    }\n",
       "</style>\n",
       "<table border=\"1\" class=\"dataframe\">\n",
       "  <thead>\n",
       "    <tr style=\"text-align: right;\">\n",
       "      <th></th>\n",
       "      <th>site_no</th>\n",
       "      <th>datetime</th>\n",
       "      <th>qtotal_m3d</th>\n",
       "      <th>qbase_m3d</th>\n",
       "      <th>category</th>\n",
       "    </tr>\n",
       "    <tr>\n",
       "      <th>datetime</th>\n",
       "      <th></th>\n",
       "      <th></th>\n",
       "      <th></th>\n",
       "      <th></th>\n",
       "      <th></th>\n",
       "    </tr>\n",
       "  </thead>\n",
       "  <tbody>\n",
       "    <tr>\n",
       "      <th>2007-02-01</th>\n",
       "      <td>07288847</td>\n",
       "      <td>2007-02-01</td>\n",
       "      <td>659171.062935</td>\n",
       "      <td>564867.808532</td>\n",
       "      <td>estimated</td>\n",
       "    </tr>\n",
       "    <tr>\n",
       "      <th>2007-03-01</th>\n",
       "      <td>07288847</td>\n",
       "      <td>2007-03-01</td>\n",
       "      <td>316339.771464</td>\n",
       "      <td>278767.710811</td>\n",
       "      <td>estimated</td>\n",
       "    </tr>\n",
       "    <tr>\n",
       "      <th>2007-04-01</th>\n",
       "      <td>07288847</td>\n",
       "      <td>2007-04-01</td>\n",
       "      <td>328301.079306</td>\n",
       "      <td>179244.687481</td>\n",
       "      <td>estimated</td>\n",
       "    </tr>\n",
       "    <tr>\n",
       "      <th>2007-05-01</th>\n",
       "      <td>07288847</td>\n",
       "      <td>2007-05-01</td>\n",
       "      <td>632789.638827</td>\n",
       "      <td>216849.532247</td>\n",
       "      <td>estimated</td>\n",
       "    </tr>\n",
       "    <tr>\n",
       "      <th>2007-06-01</th>\n",
       "      <td>07288847</td>\n",
       "      <td>2007-06-01</td>\n",
       "      <td>250184.368712</td>\n",
       "      <td>130957.604569</td>\n",
       "      <td>estimated</td>\n",
       "    </tr>\n",
       "  </tbody>\n",
       "</table>\n",
       "</div>"
      ],
      "text/plain": [
       "             site_no    datetime     qtotal_m3d      qbase_m3d   category\n",
       "datetime                                                                 \n",
       "2007-02-01  07288847  2007-02-01  659171.062935  564867.808532  estimated\n",
       "2007-03-01  07288847  2007-03-01  316339.771464  278767.710811  estimated\n",
       "2007-04-01  07288847  2007-04-01  328301.079306  179244.687481  estimated\n",
       "2007-05-01  07288847  2007-05-01  632789.638827  216849.532247  estimated\n",
       "2007-06-01  07288847  2007-06-01  250184.368712  130957.604569  estimated"
      ]
     },
     "execution_count": 1,
     "metadata": {},
     "output_type": "execute_result"
    }
   ],
   "source": [
    "est_data.head()"
   ]
  },
  {
   "cell_type": "code",
   "execution_count": 17,
   "metadata": {
    "execution": {
     "iopub.execute_input": "2020-10-07T20:37:13.992507Z",
     "iopub.status.busy": "2020-10-07T20:37:13.987881Z",
     "iopub.status.idle": "2020-10-07T20:37:13.998401Z",
     "shell.execute_reply": "2020-10-07T20:37:13.998040Z"
    }
   },
   "outputs": [
    {
     "data": {
      "text/html": [
       "<div>\n",
       "<style scoped>\n",
       "    .dataframe tbody tr th:only-of-type {\n",
       "        vertical-align: middle;\n",
       "    }\n",
       "\n",
       "    .dataframe tbody tr th {\n",
       "        vertical-align: top;\n",
       "    }\n",
       "\n",
       "    .dataframe thead th {\n",
       "        text-align: right;\n",
       "    }\n",
       "</style>\n",
       "<table border=\"1\" class=\"dataframe\">\n",
       "  <thead>\n",
       "    <tr style=\"text-align: right;\">\n",
       "      <th></th>\n",
       "      <th>start_dt</th>\n",
       "      <th>site_no</th>\n",
       "      <th>end_dt</th>\n",
       "      <th>n</th>\n",
       "      <th>x</th>\n",
       "      <th>y</th>\n",
       "      <th>line_id</th>\n",
       "      <th>name</th>\n",
       "      <th>geometry</th>\n",
       "      <th>obsprefix</th>\n",
       "      <th>group</th>\n",
       "    </tr>\n",
       "    <tr>\n",
       "      <th>site_no</th>\n",
       "      <th></th>\n",
       "      <th></th>\n",
       "      <th></th>\n",
       "      <th></th>\n",
       "      <th></th>\n",
       "      <th></th>\n",
       "      <th></th>\n",
       "      <th></th>\n",
       "      <th></th>\n",
       "      <th></th>\n",
       "      <th></th>\n",
       "    </tr>\n",
       "  </thead>\n",
       "  <tbody>\n",
       "    <tr>\n",
       "      <th>07288000</th>\n",
       "      <td>2007-02-01</td>\n",
       "      <td>07288000</td>\n",
       "      <td>2018-12-01</td>\n",
       "      <td>143</td>\n",
       "      <td>496047.363537</td>\n",
       "      <td>1.262247e+06</td>\n",
       "      <td>17951955</td>\n",
       "      <td>Big Sunflower River</td>\n",
       "      <td>POINT (496047.3635373298 1262247.29440906)</td>\n",
       "      <td>07288000</td>\n",
       "      <td>fluxes</td>\n",
       "    </tr>\n",
       "    <tr>\n",
       "      <th>07288280</th>\n",
       "      <td>2007-02-01</td>\n",
       "      <td>07288280</td>\n",
       "      <td>2018-12-01</td>\n",
       "      <td>143</td>\n",
       "      <td>489208.729363</td>\n",
       "      <td>1.239410e+06</td>\n",
       "      <td>17958105</td>\n",
       "      <td>BIG SUNFLOWER RIVER NR MERIGOLD, MS</td>\n",
       "      <td>POINT (489208.7293628419 1239410.03140523)</td>\n",
       "      <td>07288280</td>\n",
       "      <td>fluxes</td>\n",
       "    </tr>\n",
       "    <tr>\n",
       "      <th>07288555</th>\n",
       "      <td>2007-02-01</td>\n",
       "      <td>07288555</td>\n",
       "      <td>2018-12-01</td>\n",
       "      <td>143</td>\n",
       "      <td>509254.529536</td>\n",
       "      <td>1.233598e+06</td>\n",
       "      <td>17958153</td>\n",
       "      <td>QUIVER RIVER SOUTHEAST RULEVILLE, MS</td>\n",
       "      <td>POINT (509254.5295362755 1233597.934250077)</td>\n",
       "      <td>07288555</td>\n",
       "      <td>fluxes</td>\n",
       "    </tr>\n",
       "    <tr>\n",
       "      <th>07288650</th>\n",
       "      <td>2007-02-01</td>\n",
       "      <td>07288650</td>\n",
       "      <td>2018-12-01</td>\n",
       "      <td>143</td>\n",
       "      <td>472484.774612</td>\n",
       "      <td>1.196944e+06</td>\n",
       "      <td>17963095</td>\n",
       "      <td>BOGUE PHALIA NR LELAND, MS</td>\n",
       "      <td>POINT (472484.7746117859 1196943.873882911)</td>\n",
       "      <td>07288650</td>\n",
       "      <td>fluxes</td>\n",
       "    </tr>\n",
       "    <tr>\n",
       "      <th>07288700</th>\n",
       "      <td>2007-02-01</td>\n",
       "      <td>07288700</td>\n",
       "      <td>2018-12-01</td>\n",
       "      <td>143</td>\n",
       "      <td>492594.661169</td>\n",
       "      <td>1.195806e+06</td>\n",
       "      <td>17970237</td>\n",
       "      <td>Big Sunflower River</td>\n",
       "      <td>POINT (492594.6611692713 1195806.16802324)</td>\n",
       "      <td>07288700</td>\n",
       "      <td>fluxes</td>\n",
       "    </tr>\n",
       "  </tbody>\n",
       "</table>\n",
       "</div>"
      ],
      "text/plain": [
       "            start_dt   site_no      end_dt    n              x             y  \\\n",
       "site_no                                                                        \n",
       "07288000  2007-02-01  07288000  2018-12-01  143  496047.363537  1.262247e+06   \n",
       "07288280  2007-02-01  07288280  2018-12-01  143  489208.729363  1.239410e+06   \n",
       "07288555  2007-02-01  07288555  2018-12-01  143  509254.529536  1.233598e+06   \n",
       "07288650  2007-02-01  07288650  2018-12-01  143  472484.774612  1.196944e+06   \n",
       "07288700  2007-02-01  07288700  2018-12-01  143  492594.661169  1.195806e+06   \n",
       "\n",
       "           line_id                                  name  \\\n",
       "site_no                                                    \n",
       "07288000  17951955                   Big Sunflower River   \n",
       "07288280  17958105   BIG SUNFLOWER RIVER NR MERIGOLD, MS   \n",
       "07288555  17958153  QUIVER RIVER SOUTHEAST RULEVILLE, MS   \n",
       "07288650  17963095            BOGUE PHALIA NR LELAND, MS   \n",
       "07288700  17970237                   Big Sunflower River   \n",
       "\n",
       "                                             geometry obsprefix   group  \n",
       "site_no                                                                  \n",
       "07288000   POINT (496047.3635373298 1262247.29440906)  07288000  fluxes  \n",
       "07288280   POINT (489208.7293628419 1239410.03140523)  07288280  fluxes  \n",
       "07288555  POINT (509254.5295362755 1233597.934250077)  07288555  fluxes  \n",
       "07288650  POINT (472484.7746117859 1196943.873882911)  07288650  fluxes  \n",
       "07288700   POINT (492594.6611692713 1195806.16802324)  07288700  fluxes  "
      ]
     },
     "execution_count": 1,
     "metadata": {},
     "output_type": "execute_result"
    }
   ],
   "source": [
    "est_metadata.head()"
   ]
  },
  {
   "cell_type": "markdown",
   "metadata": {},
   "source": [
    "### preprocess the measured values"
   ]
  },
  {
   "cell_type": "code",
   "execution_count": 18,
   "metadata": {
    "execution": {
     "iopub.execute_input": "2020-10-07T20:37:14.004174Z",
     "iopub.status.busy": "2020-10-07T20:37:14.003227Z",
     "iopub.status.idle": "2020-10-07T20:37:15.289385Z",
     "shell.execute_reply": "2020-10-07T20:37:15.290007Z"
    }
   },
   "outputs": [
    {
     "name": "stdout",
     "output_type": "stream",
     "text": [
      "\n",
      "reading ../mapgwm/tests/data/extents/ms_delta.shp...\n",
      "--> building dataframe... (may take a while for large shapefiles)\n",
      "Culling 40 wells outside of the model area defined by ['../mapgwm/tests/data/extents/ms_delta.shp'].\n",
      "\n",
      "reading ../mapgwm/tests/data/extents/MAP_generalized_regions.shp...\n",
      "--> building dataframe... (may take a while for large shapefiles)\n",
      "\n",
      "reading ../mapgwm/tests/data/extents/CompositeHydrographArea.shp...\n",
      "--> building dataframe... (may take a while for large shapefiles)\n"
     ]
    }
   ],
   "source": [
    "nwis_streamflow_data = test_data_path / 'swflows/nwis_dvs.csv'\n",
    "nwis_streamflow_metadata = test_data_path / 'swflows/nwis_dv_sites.csv'\n",
    "\n",
    "meas_data, meas_metadata = preprocess_flows(nwis_streamflow_data, nwis_streamflow_metadata,\n",
    "                                            flow_data_columns=['q_cfs', 'qbase_cfs'],\n",
    "                                            include_sites=include_sites,\n",
    "                                            start_date=start_date,\n",
    "                                            active_area=delta_extent,\n",
    "                                            datetime_col='datetime', \n",
    "                                            site_no_col='site_no',\n",
    "                                            line_id_col='comid',\n",
    "                                            x_coord_col='dec_long_va',\n",
    "                                            y_coord_col='dec_lat_va',\n",
    "                                            geographic_groups=geographic_groups,\n",
    "                                            geographic_groups_col='obsgroup',\n",
    "                                            source_crs=4269,\n",
    "                                            dest_crs=5070,\n",
    "                                            source_volume_units='ft3',\n",
    "                                            source_time_units='s',\n",
    "                                            dest_volume_units='m3',\n",
    "                                            dest_time_units='d',\n",
    "                                            column_renames=column_renames,\n",
    "                                            outfile=None\n",
    "                                            )"
   ]
  },
  {
   "cell_type": "code",
   "execution_count": 19,
   "metadata": {
    "execution": {
     "iopub.execute_input": "2020-10-07T20:37:15.299631Z",
     "iopub.status.busy": "2020-10-07T20:37:15.299209Z",
     "iopub.status.idle": "2020-10-07T20:37:15.303967Z",
     "shell.execute_reply": "2020-10-07T20:37:15.304598Z"
    }
   },
   "outputs": [
    {
     "data": {
      "text/html": [
       "<div>\n",
       "<style scoped>\n",
       "    .dataframe tbody tr th:only-of-type {\n",
       "        vertical-align: middle;\n",
       "    }\n",
       "\n",
       "    .dataframe tbody tr th {\n",
       "        vertical-align: top;\n",
       "    }\n",
       "\n",
       "    .dataframe thead th {\n",
       "        text-align: right;\n",
       "    }\n",
       "</style>\n",
       "<table border=\"1\" class=\"dataframe\">\n",
       "  <thead>\n",
       "    <tr style=\"text-align: right;\">\n",
       "      <th></th>\n",
       "      <th>site_no</th>\n",
       "      <th>datetime</th>\n",
       "      <th>qtotal_m3d</th>\n",
       "      <th>qbase_m3d</th>\n",
       "      <th>category</th>\n",
       "    </tr>\n",
       "    <tr>\n",
       "      <th>datetime</th>\n",
       "      <th></th>\n",
       "      <th></th>\n",
       "      <th></th>\n",
       "      <th></th>\n",
       "      <th></th>\n",
       "    </tr>\n",
       "  </thead>\n",
       "  <tbody>\n",
       "    <tr>\n",
       "      <th>2008-01-20</th>\n",
       "      <td>07280400</td>\n",
       "      <td>2008-01-20</td>\n",
       "      <td>93459.185840</td>\n",
       "      <td>93459.185840</td>\n",
       "      <td>measured</td>\n",
       "    </tr>\n",
       "    <tr>\n",
       "      <th>2008-01-21</th>\n",
       "      <td>07280400</td>\n",
       "      <td>2008-01-21</td>\n",
       "      <td>90278.637631</td>\n",
       "      <td>90278.637631</td>\n",
       "      <td>measured</td>\n",
       "    </tr>\n",
       "    <tr>\n",
       "      <th>2008-01-22</th>\n",
       "      <td>07280400</td>\n",
       "      <td>2008-01-22</td>\n",
       "      <td>153155.629151</td>\n",
       "      <td>92176.690939</td>\n",
       "      <td>measured</td>\n",
       "    </tr>\n",
       "    <tr>\n",
       "      <th>2008-01-23</th>\n",
       "      <td>07280400</td>\n",
       "      <td>2008-01-23</td>\n",
       "      <td>214809.332899</td>\n",
       "      <td>94114.868086</td>\n",
       "      <td>measured</td>\n",
       "    </tr>\n",
       "    <tr>\n",
       "      <th>2008-01-24</th>\n",
       "      <td>07280400</td>\n",
       "      <td>2008-01-24</td>\n",
       "      <td>144347.957187</td>\n",
       "      <td>96093.658387</td>\n",
       "      <td>measured</td>\n",
       "    </tr>\n",
       "  </tbody>\n",
       "</table>\n",
       "</div>"
      ],
      "text/plain": [
       "             site_no    datetime     qtotal_m3d     qbase_m3d  category\n",
       "datetime                                                               \n",
       "2008-01-20  07280400  2008-01-20   93459.185840  93459.185840  measured\n",
       "2008-01-21  07280400  2008-01-21   90278.637631  90278.637631  measured\n",
       "2008-01-22  07280400  2008-01-22  153155.629151  92176.690939  measured\n",
       "2008-01-23  07280400  2008-01-23  214809.332899  94114.868086  measured\n",
       "2008-01-24  07280400  2008-01-24  144347.957187  96093.658387  measured"
      ]
     },
     "execution_count": 1,
     "metadata": {},
     "output_type": "execute_result"
    }
   ],
   "source": [
    "meas_data.head()"
   ]
  },
  {
   "cell_type": "code",
   "execution_count": 20,
   "metadata": {
    "execution": {
     "iopub.execute_input": "2020-10-07T20:37:15.326454Z",
     "iopub.status.busy": "2020-10-07T20:37:15.316115Z",
     "iopub.status.idle": "2020-10-07T20:37:15.334639Z",
     "shell.execute_reply": "2020-10-07T20:37:15.335225Z"
    }
   },
   "outputs": [
    {
     "data": {
      "text/html": [
       "<div>\n",
       "<style scoped>\n",
       "    .dataframe tbody tr th:only-of-type {\n",
       "        vertical-align: middle;\n",
       "    }\n",
       "\n",
       "    .dataframe tbody tr th {\n",
       "        vertical-align: top;\n",
       "    }\n",
       "\n",
       "    .dataframe thead th {\n",
       "        text-align: right;\n",
       "    }\n",
       "</style>\n",
       "<table border=\"1\" class=\"dataframe\">\n",
       "  <thead>\n",
       "    <tr style=\"text-align: right;\">\n",
       "      <th></th>\n",
       "      <th>site_no</th>\n",
       "      <th>name</th>\n",
       "      <th>site_tp_cd</th>\n",
       "      <th>y</th>\n",
       "      <th>x</th>\n",
       "      <th>coord_meth_cd</th>\n",
       "      <th>coord_acy_cd</th>\n",
       "      <th>coord_datum_cd</th>\n",
       "      <th>dec_coord_datum_cd</th>\n",
       "      <th>district_cd</th>\n",
       "      <th>...</th>\n",
       "      <th>qw_count_nu</th>\n",
       "      <th>sv_begin_date</th>\n",
       "      <th>sv_end_date</th>\n",
       "      <th>sv_count_nu</th>\n",
       "      <th>geometry</th>\n",
       "      <th>start_dt</th>\n",
       "      <th>end_dt</th>\n",
       "      <th>n</th>\n",
       "      <th>obsprefix</th>\n",
       "      <th>group</th>\n",
       "    </tr>\n",
       "    <tr>\n",
       "      <th>site_no</th>\n",
       "      <th></th>\n",
       "      <th></th>\n",
       "      <th></th>\n",
       "      <th></th>\n",
       "      <th></th>\n",
       "      <th></th>\n",
       "      <th></th>\n",
       "      <th></th>\n",
       "      <th></th>\n",
       "      <th></th>\n",
       "      <th></th>\n",
       "      <th></th>\n",
       "      <th></th>\n",
       "      <th></th>\n",
       "      <th></th>\n",
       "      <th></th>\n",
       "      <th></th>\n",
       "      <th></th>\n",
       "      <th></th>\n",
       "      <th></th>\n",
       "      <th></th>\n",
       "    </tr>\n",
       "  </thead>\n",
       "  <tbody>\n",
       "    <tr>\n",
       "      <th>07280400</th>\n",
       "      <td>07280400</td>\n",
       "      <td>TILLATOBA CREEK AT CHARLESTON, MS</td>\n",
       "      <td>ST</td>\n",
       "      <td>1.231964e+06</td>\n",
       "      <td>543849.348583</td>\n",
       "      <td>G</td>\n",
       "      <td>5</td>\n",
       "      <td>NAD83</td>\n",
       "      <td>NAD83</td>\n",
       "      <td>28</td>\n",
       "      <td>...</td>\n",
       "      <td>5.0</td>\n",
       "      <td>1976-08-18</td>\n",
       "      <td>2015-09-08</td>\n",
       "      <td>132.0</td>\n",
       "      <td>POINT (543849.3485826917 1231964.199194193)</td>\n",
       "      <td>2008-01-20</td>\n",
       "      <td>2009-09-22</td>\n",
       "      <td>612.0</td>\n",
       "      <td>07280400</td>\n",
       "      <td>fluxes</td>\n",
       "    </tr>\n",
       "    <tr>\n",
       "      <th>07288000</th>\n",
       "      <td>07288000</td>\n",
       "      <td>BIG SUNFLOWER RIVER AT CLARKSDALE, MS</td>\n",
       "      <td>ST</td>\n",
       "      <td>1.251190e+06</td>\n",
       "      <td>495901.606421</td>\n",
       "      <td>M</td>\n",
       "      <td>F</td>\n",
       "      <td>NAD27</td>\n",
       "      <td>NAD83</td>\n",
       "      <td>28</td>\n",
       "      <td>...</td>\n",
       "      <td>347.0</td>\n",
       "      <td>1995-05-18</td>\n",
       "      <td>2020-08-11</td>\n",
       "      <td>29.0</td>\n",
       "      <td>POINT (495901.606420672 1251190.481277433)</td>\n",
       "      <td>2017-10-02</td>\n",
       "      <td>2020-09-20</td>\n",
       "      <td>884.0</td>\n",
       "      <td>07288000</td>\n",
       "      <td>fluxes</td>\n",
       "    </tr>\n",
       "    <tr>\n",
       "      <th>07288280</th>\n",
       "      <td>07288280</td>\n",
       "      <td>BIG SUNFLOWER RIVER NR MERIGOLD, MS</td>\n",
       "      <td>ST</td>\n",
       "      <td>1.209990e+06</td>\n",
       "      <td>489521.298812</td>\n",
       "      <td>G</td>\n",
       "      <td>5</td>\n",
       "      <td>NAD83</td>\n",
       "      <td>NAD83</td>\n",
       "      <td>28</td>\n",
       "      <td>...</td>\n",
       "      <td>45.0</td>\n",
       "      <td>1992-10-06</td>\n",
       "      <td>2020-06-30</td>\n",
       "      <td>266.0</td>\n",
       "      <td>POINT (489521.2988124544 1209990.152655879)</td>\n",
       "      <td>2008-01-08</td>\n",
       "      <td>2020-09-18</td>\n",
       "      <td>4633.0</td>\n",
       "      <td>07288280</td>\n",
       "      <td>fluxes</td>\n",
       "    </tr>\n",
       "    <tr>\n",
       "      <th>07288650</th>\n",
       "      <td>07288650</td>\n",
       "      <td>BOGUE PHALIA NR LELAND, MS</td>\n",
       "      <td>ST</td>\n",
       "      <td>1.160478e+06</td>\n",
       "      <td>475848.051335</td>\n",
       "      <td>G</td>\n",
       "      <td>5</td>\n",
       "      <td>NAD83</td>\n",
       "      <td>NAD83</td>\n",
       "      <td>28</td>\n",
       "      <td>...</td>\n",
       "      <td>748.0</td>\n",
       "      <td>1953-11-10</td>\n",
       "      <td>2020-06-30</td>\n",
       "      <td>233.0</td>\n",
       "      <td>POINT (475848.0513348849 1160478.108369947)</td>\n",
       "      <td>2008-01-08</td>\n",
       "      <td>2020-09-22</td>\n",
       "      <td>4592.0</td>\n",
       "      <td>07288650</td>\n",
       "      <td>fluxes</td>\n",
       "    </tr>\n",
       "    <tr>\n",
       "      <th>07288700</th>\n",
       "      <td>07288700</td>\n",
       "      <td>BIG SUNFLOWER RIVER NR ANGUILLA, MS</td>\n",
       "      <td>ST</td>\n",
       "      <td>1.113472e+06</td>\n",
       "      <td>484902.570251</td>\n",
       "      <td>M</td>\n",
       "      <td>M</td>\n",
       "      <td>NAD27</td>\n",
       "      <td>NAD83</td>\n",
       "      <td>28</td>\n",
       "      <td>...</td>\n",
       "      <td>296.0</td>\n",
       "      <td>1980-07-23</td>\n",
       "      <td>2011-02-15</td>\n",
       "      <td>35.0</td>\n",
       "      <td>POINT (484902.5702511699 1113472.33857191)</td>\n",
       "      <td>NaN</td>\n",
       "      <td>NaN</td>\n",
       "      <td>NaN</td>\n",
       "      <td>07288700</td>\n",
       "      <td>fluxes</td>\n",
       "    </tr>\n",
       "  </tbody>\n",
       "</table>\n",
       "<p>5 rows × 46 columns</p>\n",
       "</div>"
      ],
      "text/plain": [
       "           site_no                                   name site_tp_cd  \\\n",
       "site_no                                                                \n",
       "07280400  07280400      TILLATOBA CREEK AT CHARLESTON, MS         ST   \n",
       "07288000  07288000  BIG SUNFLOWER RIVER AT CLARKSDALE, MS         ST   \n",
       "07288280  07288280    BIG SUNFLOWER RIVER NR MERIGOLD, MS         ST   \n",
       "07288650  07288650             BOGUE PHALIA NR LELAND, MS         ST   \n",
       "07288700  07288700    BIG SUNFLOWER RIVER NR ANGUILLA, MS         ST   \n",
       "\n",
       "                     y              x coord_meth_cd coord_acy_cd  \\\n",
       "site_no                                                            \n",
       "07280400  1.231964e+06  543849.348583             G            5   \n",
       "07288000  1.251190e+06  495901.606421             M            F   \n",
       "07288280  1.209990e+06  489521.298812             G            5   \n",
       "07288650  1.160478e+06  475848.051335             G            5   \n",
       "07288700  1.113472e+06  484902.570251             M            M   \n",
       "\n",
       "         coord_datum_cd dec_coord_datum_cd  district_cd  ...  qw_count_nu  \\\n",
       "site_no                                                  ...                \n",
       "07280400          NAD83              NAD83           28  ...          5.0   \n",
       "07288000          NAD27              NAD83           28  ...        347.0   \n",
       "07288280          NAD83              NAD83           28  ...         45.0   \n",
       "07288650          NAD83              NAD83           28  ...        748.0   \n",
       "07288700          NAD27              NAD83           28  ...        296.0   \n",
       "\n",
       "          sv_begin_date sv_end_date sv_count_nu  \\\n",
       "site_no                                           \n",
       "07280400     1976-08-18  2015-09-08       132.0   \n",
       "07288000     1995-05-18  2020-08-11        29.0   \n",
       "07288280     1992-10-06  2020-06-30       266.0   \n",
       "07288650     1953-11-10  2020-06-30       233.0   \n",
       "07288700     1980-07-23  2011-02-15        35.0   \n",
       "\n",
       "                                             geometry    start_dt      end_dt  \\\n",
       "site_no                                                                         \n",
       "07280400  POINT (543849.3485826917 1231964.199194193)  2008-01-20  2009-09-22   \n",
       "07288000   POINT (495901.606420672 1251190.481277433)  2017-10-02  2020-09-20   \n",
       "07288280  POINT (489521.2988124544 1209990.152655879)  2008-01-08  2020-09-18   \n",
       "07288650  POINT (475848.0513348849 1160478.108369947)  2008-01-08  2020-09-22   \n",
       "07288700   POINT (484902.5702511699 1113472.33857191)         NaN         NaN   \n",
       "\n",
       "               n  obsprefix   group  \n",
       "site_no                              \n",
       "07280400   612.0   07280400  fluxes  \n",
       "07288000   884.0   07288000  fluxes  \n",
       "07288280  4633.0   07288280  fluxes  \n",
       "07288650  4592.0   07288650  fluxes  \n",
       "07288700     NaN   07288700  fluxes  \n",
       "\n",
       "[5 rows x 46 columns]"
      ]
     },
     "execution_count": 1,
     "metadata": {},
     "output_type": "execute_result"
    }
   ],
   "source": [
    "meas_metadata.head()"
   ]
  },
  {
   "cell_type": "markdown",
   "metadata": {},
   "source": [
    "### Combine the measured and estimated observations into one dataset\n",
    "* Resample both datasets to a continuous monthly frequency (labeled with the start date of each month)\n",
    "* Prioritize measured data when available; fill gaps with statistical estimates\n",
    "* Once the model has been run, the observation output from the model can be fed to **``modflow-obs``** along with the  ``combined_obs`` timeseries (below), to set up **``PEST``** observations, or create observation output to be read by **``PEST``**."
   ]
  },
  {
   "cell_type": "code",
   "execution_count": 21,
   "metadata": {
    "execution": {
     "iopub.execute_input": "2020-10-07T20:37:15.340553Z",
     "iopub.status.busy": "2020-10-07T20:37:15.338607Z",
     "iopub.status.idle": "2020-10-07T20:37:15.477166Z",
     "shell.execute_reply": "2020-10-07T20:37:15.476601Z"
    }
   },
   "outputs": [],
   "source": [
    "from mapgwm.swflows import combine_measured_estimated_values\n",
    "\n",
    "combined_obs = combine_measured_estimated_values(meas_data, est_data,\n",
    "                                                 measured_values_data_col='qbase_m3d', \n",
    "                                                 estimated_values_data_col='qbase_m3d',\n",
    "                                                 resample_freq='MS', how='mean')"
   ]
  },
  {
   "cell_type": "code",
   "execution_count": 22,
   "metadata": {
    "execution": {
     "iopub.execute_input": "2020-10-07T20:37:15.487659Z",
     "iopub.status.busy": "2020-10-07T20:37:15.487256Z",
     "iopub.status.idle": "2020-10-07T20:37:15.492236Z",
     "shell.execute_reply": "2020-10-07T20:37:15.491823Z"
    }
   },
   "outputs": [
    {
     "data": {
      "text/html": [
       "<div>\n",
       "<style scoped>\n",
       "    .dataframe tbody tr th:only-of-type {\n",
       "        vertical-align: middle;\n",
       "    }\n",
       "\n",
       "    .dataframe tbody tr th {\n",
       "        vertical-align: top;\n",
       "    }\n",
       "\n",
       "    .dataframe thead th {\n",
       "        text-align: right;\n",
       "    }\n",
       "</style>\n",
       "<table border=\"1\" class=\"dataframe\">\n",
       "  <thead>\n",
       "    <tr style=\"text-align: right;\">\n",
       "      <th></th>\n",
       "      <th>site_no</th>\n",
       "      <th>datetime</th>\n",
       "      <th>category</th>\n",
       "      <th>est_qtotal_m3d</th>\n",
       "      <th>est_qbase_m3d</th>\n",
       "      <th>meas_qtotal_m3d</th>\n",
       "      <th>meas_qbase_m3d</th>\n",
       "      <th>obsval</th>\n",
       "    </tr>\n",
       "  </thead>\n",
       "  <tbody>\n",
       "    <tr>\n",
       "      <th>0</th>\n",
       "      <td>07280400</td>\n",
       "      <td>2008-01-01</td>\n",
       "      <td>measured</td>\n",
       "      <td>NaN</td>\n",
       "      <td>NaN</td>\n",
       "      <td>2.219044e+05</td>\n",
       "      <td>99816.041527</td>\n",
       "      <td>99816.041527</td>\n",
       "    </tr>\n",
       "    <tr>\n",
       "      <th>1</th>\n",
       "      <td>07280400</td>\n",
       "      <td>2008-02-01</td>\n",
       "      <td>measured</td>\n",
       "      <td>NaN</td>\n",
       "      <td>NaN</td>\n",
       "      <td>3.343203e+05</td>\n",
       "      <td>130662.640359</td>\n",
       "      <td>130662.640359</td>\n",
       "    </tr>\n",
       "    <tr>\n",
       "      <th>2</th>\n",
       "      <td>07280400</td>\n",
       "      <td>2008-03-01</td>\n",
       "      <td>measured</td>\n",
       "      <td>NaN</td>\n",
       "      <td>NaN</td>\n",
       "      <td>5.228016e+05</td>\n",
       "      <td>112159.341365</td>\n",
       "      <td>112159.341365</td>\n",
       "    </tr>\n",
       "    <tr>\n",
       "      <th>3</th>\n",
       "      <td>07280400</td>\n",
       "      <td>2008-04-01</td>\n",
       "      <td>measured</td>\n",
       "      <td>NaN</td>\n",
       "      <td>NaN</td>\n",
       "      <td>1.080310e+06</td>\n",
       "      <td>197271.496485</td>\n",
       "      <td>197271.496485</td>\n",
       "    </tr>\n",
       "    <tr>\n",
       "      <th>4</th>\n",
       "      <td>07280400</td>\n",
       "      <td>2008-05-01</td>\n",
       "      <td>measured</td>\n",
       "      <td>NaN</td>\n",
       "      <td>NaN</td>\n",
       "      <td>6.351547e+05</td>\n",
       "      <td>165388.483203</td>\n",
       "      <td>165388.483203</td>\n",
       "    </tr>\n",
       "  </tbody>\n",
       "</table>\n",
       "</div>"
      ],
      "text/plain": [
       "    site_no   datetime  category  est_qtotal_m3d  est_qbase_m3d  \\\n",
       "0  07280400 2008-01-01  measured             NaN            NaN   \n",
       "1  07280400 2008-02-01  measured             NaN            NaN   \n",
       "2  07280400 2008-03-01  measured             NaN            NaN   \n",
       "3  07280400 2008-04-01  measured             NaN            NaN   \n",
       "4  07280400 2008-05-01  measured             NaN            NaN   \n",
       "\n",
       "   meas_qtotal_m3d  meas_qbase_m3d         obsval  \n",
       "0     2.219044e+05    99816.041527   99816.041527  \n",
       "1     3.343203e+05   130662.640359  130662.640359  \n",
       "2     5.228016e+05   112159.341365  112159.341365  \n",
       "3     1.080310e+06   197271.496485  197271.496485  \n",
       "4     6.351547e+05   165388.483203  165388.483203  "
      ]
     },
     "execution_count": 1,
     "metadata": {},
     "output_type": "execute_result"
    }
   ],
   "source": [
    "combined_obs.head()"
   ]
  },
  {
   "cell_type": "markdown",
   "metadata": {},
   "source": [
    "### plot data for a site of interest"
   ]
  },
  {
   "cell_type": "code",
   "execution_count": 23,
   "metadata": {
    "execution": {
     "iopub.execute_input": "2020-10-07T20:37:15.511993Z",
     "iopub.status.busy": "2020-10-07T20:37:15.509780Z",
     "iopub.status.idle": "2020-10-07T20:37:15.831228Z",
     "shell.execute_reply": "2020-10-07T20:37:15.830509Z"
    }
   },
   "outputs": [
    {
     "data": {
      "text/plain": [
       "Text(0, 0.5, 'Flow, in m$^3$/day')"
      ]
     },
     "execution_count": 1,
     "metadata": {},
     "output_type": "execute_result"
    },
    {
     "data": {
      "image/png": "[encoded data removed]",
      "text/plain": [
       "<Figure size 792x612 with 1 Axes>"
      ]
     },
     "metadata": {
      "needs_background": "light"
     },
     "output_type": "display_data"
    }
   ],
   "source": [
    "site_no = '07288280'\n",
    "site_data = combined_obs.loc[combined_obs.site_no == site_no].copy()\n",
    "site_data.index = site_data.datetime\n",
    "\n",
    "fig, ax = plt.subplots(figsize=(11, 8.5))\n",
    "ax = site_data[['meas_qtotal_m3d','meas_qbase_m3d']].plot(ax=ax)\n",
    "ax = site_data[['est_qtotal_m3d','est_qbase_m3d']].plot(alpha=0.3, ax=ax, color=['C0', 'C1'])\n",
    "site_data.obsval.plot(ax=ax, c='k')\n",
    "ax.set_title(meas_metadata.loc[site_no, 'name'])\n",
    "ax.legend()\n",
    "ax.set_ylabel('Flow, in m$^3$/day')"
   ]
  },
  {
   "cell_type": "markdown",
   "metadata": {},
   "source": [
    "## Preprocess head observations\n",
    "Preprocess head observation data, from the [visGWDB program](https://doi.org/10.5066/P9W004O6)\n",
    "* reproject to the model CRS\n",
    "* cull data to a `start_date` and optionally, a polygon or set of polygons defining the model area\n",
    "* length units are converted to those of the groundwater model. Open intervals for the wells are\n",
    "  converted from depths to elevations\n",
    "* missing open intervals are filled based on well bottom depths (if availabile) and the median open\n",
    "  interval length for the dataset.\n",
    "* Wells are categorized based on the quality of the open interval information (see the documentation\n",
    "  for :func:`mapgwm.headobs.fill_well_open_intervals`).\n",
    "* Prefixes for observation names (with an optional length limit) that identify the location are generated\n",
    "* Similar to with flux observations, assign preliminary observation groups based on geographic areas defined by the\n",
    "* The ``data`` DataFrame outputs have the time series; \n",
    "* The ``metadata`` DataFrame outputs have site information that can be input to **``modflow-setup``** to set up the observation input for MODFLOW-6.\n",
    "* Once the model has been run, the observation output from the model can be fed to **``modflow-obs``** along with the  ``data`` timeseries (below), to set up **``PEST``** observations, or create observation output to be read by **``PEST``**."
   ]
  },
  {
   "cell_type": "code",
   "execution_count": 24,
   "metadata": {
    "execution": {
     "iopub.execute_input": "2020-10-07T20:37:15.835439Z",
     "iopub.status.busy": "2020-10-07T20:37:15.834694Z",
     "iopub.status.idle": "2020-10-07T20:37:15.852637Z",
     "shell.execute_reply": "2020-10-07T20:37:15.852170Z"
    }
   },
   "outputs": [],
   "source": [
    "from mapgwm.headobs import preprocess_headobs, get_data\n",
    "\n",
    "data_file = test_data_path / 'headobs/GW_monthly_stats1990-01-01_2019-12-31.txt'\n",
    "metadata_file = test_data_path / 'headobs/GW_monthly_meta1990-01-01_2019-12-31.txt'\n",
    "\n",
    "# output\n",
    "outputfile = output_folder / 'preprocessed_monthly_headobs.csv'"
   ]
  },
  {
   "cell_type": "code",
   "execution_count": 25,
   "metadata": {
    "execution": {
     "iopub.execute_input": "2020-10-07T20:37:15.857406Z",
     "iopub.status.busy": "2020-10-07T20:37:15.856748Z",
     "iopub.status.idle": "2020-10-07T20:37:17.350241Z",
     "shell.execute_reply": "2020-10-07T20:37:17.349859Z"
    }
   },
   "outputs": [
    {
     "name": "stdout",
     "output_type": "stream",
     "text": [
      "starting with 10 unique wells\n",
      "culling 13 wells with only data prior to start date of 1998-04-01 00:00:00\n",
      "\n",
      "reading ../mapgwm/tests/data/extents/ms_delta.shp...\n",
      "--> building dataframe... (may take a while for large shapefiles)\n",
      "Culling 2 wells outside of the model area defined by ['../mapgwm/tests/data/extents/ms_delta.shp'].\n",
      "50% of wells (n=4) have incomplete open interval information. Filling screen bottoms with well bottoms where available, and estimating screen tops from median open interval length.\n",
      "12% of wells (n=1) still missing open interval information; assigned to category 4.\n",
      "\n",
      "reading ../mapgwm/tests/data/extents/MAP_generalized_regions.shp...\n",
      "--> building dataframe... (may take a while for large shapefiles)\n",
      "\n",
      "reading ../mapgwm/tests/data/extents/CompositeHydrographArea.shp...\n",
      "--> building dataframe... (may take a while for large shapefiles)\n",
      "writing output/preprocessed_monthly_headobs_info.shp...\n",
      "writing output/preprocessed_monthly_headobs_info.csv\n",
      "writing output/preprocessed_monthly_headobs.csv\n"
     ]
    }
   ],
   "source": [
    "# read the data\n",
    "data_orig, metadata_orig = get_data(data_file, metadata_file)\n",
    "\n",
    "# do the preprocessing\n",
    "data, metadata = preprocess_headobs(data_orig, metadata_orig,\n",
    "                                    head_data_columns=['head', 'last_head'],\n",
    "                                    data_length_units='feet',\n",
    "                                    active_area=delta_extent,\n",
    "                                    source_crs=4269, dest_crs=5070,\n",
    "                                    start_date=start_date,\n",
    "                                    geographic_groups=geographic_groups,\n",
    "                                    geographic_groups_col='obsgroup',\n",
    "                                    outfile=outputfile)"
   ]
  },
  {
   "cell_type": "code",
   "execution_count": 26,
   "metadata": {
    "execution": {
     "iopub.execute_input": "2020-10-07T20:37:17.360231Z",
     "iopub.status.busy": "2020-10-07T20:37:17.359809Z",
     "iopub.status.idle": "2020-10-07T20:37:17.364668Z",
     "shell.execute_reply": "2020-10-07T20:37:17.364332Z"
    }
   },
   "outputs": [
    {
     "data": {
      "text/html": [
       "<div>\n",
       "<style scoped>\n",
       "    .dataframe tbody tr th:only-of-type {\n",
       "        vertical-align: middle;\n",
       "    }\n",
       "\n",
       "    .dataframe tbody tr th {\n",
       "        vertical-align: top;\n",
       "    }\n",
       "\n",
       "    .dataframe thead th {\n",
       "        text-align: right;\n",
       "    }\n",
       "</style>\n",
       "<table border=\"1\" class=\"dataframe\">\n",
       "  <thead>\n",
       "    <tr style=\"text-align: right;\">\n",
       "      <th></th>\n",
       "      <th>site_no</th>\n",
       "      <th>datetime</th>\n",
       "      <th>head</th>\n",
       "      <th>last_head</th>\n",
       "      <th>head_std</th>\n",
       "      <th>n</th>\n",
       "      <th>obsprefix</th>\n",
       "    </tr>\n",
       "  </thead>\n",
       "  <tbody>\n",
       "    <tr>\n",
       "      <th>4</th>\n",
       "      <td>USGS:332915091025901</td>\n",
       "      <td>2003-07-01</td>\n",
       "      <td>37.185600</td>\n",
       "      <td>37.185600</td>\n",
       "      <td>NaN</td>\n",
       "      <td>1</td>\n",
       "      <td>USGS:332915091025901</td>\n",
       "    </tr>\n",
       "    <tr>\n",
       "      <th>5</th>\n",
       "      <td>USGS:333411090482201</td>\n",
       "      <td>2008-03-01</td>\n",
       "      <td>28.096464</td>\n",
       "      <td>28.096464</td>\n",
       "      <td>NaN</td>\n",
       "      <td>1</td>\n",
       "      <td>USGS:333411090482201</td>\n",
       "    </tr>\n",
       "    <tr>\n",
       "      <th>6</th>\n",
       "      <td>USGS:333411090482201</td>\n",
       "      <td>2010-03-01</td>\n",
       "      <td>27.736800</td>\n",
       "      <td>27.736800</td>\n",
       "      <td>NaN</td>\n",
       "      <td>1</td>\n",
       "      <td>USGS:333411090482201</td>\n",
       "    </tr>\n",
       "    <tr>\n",
       "      <th>7</th>\n",
       "      <td>USGS:333411090482201</td>\n",
       "      <td>2015-03-01</td>\n",
       "      <td>26.560272</td>\n",
       "      <td>26.560272</td>\n",
       "      <td>NaN</td>\n",
       "      <td>1</td>\n",
       "      <td>USGS:333411090482201</td>\n",
       "    </tr>\n",
       "    <tr>\n",
       "      <th>8</th>\n",
       "      <td>USGS:333411090482201</td>\n",
       "      <td>2019-03-01</td>\n",
       "      <td>26.484072</td>\n",
       "      <td>26.484072</td>\n",
       "      <td>NaN</td>\n",
       "      <td>1</td>\n",
       "      <td>USGS:333411090482201</td>\n",
       "    </tr>\n",
       "  </tbody>\n",
       "</table>\n",
       "</div>"
      ],
      "text/plain": [
       "                site_no   datetime       head  last_head  head_std  n  \\\n",
       "4  USGS:332915091025901 2003-07-01  37.185600  37.185600       NaN  1   \n",
       "5  USGS:333411090482201 2008-03-01  28.096464  28.096464       NaN  1   \n",
       "6  USGS:333411090482201 2010-03-01  27.736800  27.736800       NaN  1   \n",
       "7  USGS:333411090482201 2015-03-01  26.560272  26.560272       NaN  1   \n",
       "8  USGS:333411090482201 2019-03-01  26.484072  26.484072       NaN  1   \n",
       "\n",
       "              obsprefix  \n",
       "4  USGS:332915091025901  \n",
       "5  USGS:333411090482201  \n",
       "6  USGS:333411090482201  \n",
       "7  USGS:333411090482201  \n",
       "8  USGS:333411090482201  "
      ]
     },
     "execution_count": 1,
     "metadata": {},
     "output_type": "execute_result"
    }
   ],
   "source": [
    "data.head()"
   ]
  },
  {
   "cell_type": "code",
   "execution_count": 27,
   "metadata": {
    "execution": {
     "iopub.execute_input": "2020-10-07T20:37:17.376177Z",
     "iopub.status.busy": "2020-10-07T20:37:17.375370Z",
     "iopub.status.idle": "2020-10-07T20:37:17.390888Z",
     "shell.execute_reply": "2020-10-07T20:37:17.390532Z"
    }
   },
   "outputs": [
    {
     "data": {
      "text/html": [
       "<div>\n",
       "<style scoped>\n",
       "    .dataframe tbody tr th:only-of-type {\n",
       "        vertical-align: middle;\n",
       "    }\n",
       "\n",
       "    .dataframe tbody tr th {\n",
       "        vertical-align: top;\n",
       "    }\n",
       "\n",
       "    .dataframe thead th {\n",
       "        text-align: right;\n",
       "    }\n",
       "</style>\n",
       "<table border=\"1\" class=\"dataframe\">\n",
       "  <thead>\n",
       "    <tr style=\"text-align: right;\">\n",
       "      <th></th>\n",
       "      <th>head</th>\n",
       "      <th>head_std</th>\n",
       "      <th>last_head</th>\n",
       "      <th>n</th>\n",
       "      <th>aqfr_cd</th>\n",
       "      <th>nat_aqfr_cd</th>\n",
       "      <th>screen_botm</th>\n",
       "      <th>screen_top</th>\n",
       "      <th>well_depth</th>\n",
       "      <th>well_el</th>\n",
       "      <th>...</th>\n",
       "      <th>site_no</th>\n",
       "      <th>x</th>\n",
       "      <th>y</th>\n",
       "      <th>geometry</th>\n",
       "      <th>well_botm</th>\n",
       "      <th>category</th>\n",
       "      <th>orig_scbot</th>\n",
       "      <th>orig_sctop</th>\n",
       "      <th>obsprefix</th>\n",
       "      <th>group</th>\n",
       "    </tr>\n",
       "    <tr>\n",
       "      <th>site_no</th>\n",
       "      <th></th>\n",
       "      <th></th>\n",
       "      <th></th>\n",
       "      <th></th>\n",
       "      <th></th>\n",
       "      <th></th>\n",
       "      <th></th>\n",
       "      <th></th>\n",
       "      <th></th>\n",
       "      <th></th>\n",
       "      <th></th>\n",
       "      <th></th>\n",
       "      <th></th>\n",
       "      <th></th>\n",
       "      <th></th>\n",
       "      <th></th>\n",
       "      <th></th>\n",
       "      <th></th>\n",
       "      <th></th>\n",
       "      <th></th>\n",
       "      <th></th>\n",
       "    </tr>\n",
       "  </thead>\n",
       "  <tbody>\n",
       "    <tr>\n",
       "      <th>USGS:323340091085201</th>\n",
       "      <td>19.50720</td>\n",
       "      <td>NaN</td>\n",
       "      <td>19.50720</td>\n",
       "      <td>1.0</td>\n",
       "      <td>112MRVA</td>\n",
       "      <td>N100MSRVVL</td>\n",
       "      <td>-88.177600</td>\n",
       "      <td>-75.985600</td>\n",
       "      <td>115.0</td>\n",
       "      <td>26.822400</td>\n",
       "      <td>...</td>\n",
       "      <td>USGS:323340091085201</td>\n",
       "      <td>452922.427646</td>\n",
       "      <td>1.065894e+06</td>\n",
       "      <td>POINT (452922.4276462687 1065893.772968342)</td>\n",
       "      <td>-88.177600</td>\n",
       "      <td>2</td>\n",
       "      <td>NaN</td>\n",
       "      <td>NaN</td>\n",
       "      <td>USGS:323340091085201</td>\n",
       "      <td>heads</td>\n",
       "    </tr>\n",
       "    <tr>\n",
       "      <th>USGS:325121091093801</th>\n",
       "      <td>29.87040</td>\n",
       "      <td>NaN</td>\n",
       "      <td>29.87040</td>\n",
       "      <td>1.0</td>\n",
       "      <td>112MRVA</td>\n",
       "      <td>N100MSRVVL</td>\n",
       "      <td>-58.605600</td>\n",
       "      <td>-46.413600</td>\n",
       "      <td>90.0</td>\n",
       "      <td>31.394400</td>\n",
       "      <td>...</td>\n",
       "      <td>USGS:325121091093801</td>\n",
       "      <td>450055.327781</td>\n",
       "      <td>1.098664e+06</td>\n",
       "      <td>POINT (450055.3277808698 1098664.367787851)</td>\n",
       "      <td>-58.605600</td>\n",
       "      <td>2</td>\n",
       "      <td>NaN</td>\n",
       "      <td>NaN</td>\n",
       "      <td>USGS:325121091093801</td>\n",
       "      <td>heads</td>\n",
       "    </tr>\n",
       "    <tr>\n",
       "      <th>USGS:332915091025901</th>\n",
       "      <td>37.18560</td>\n",
       "      <td>NaN</td>\n",
       "      <td>37.18560</td>\n",
       "      <td>1.0</td>\n",
       "      <td>112MRVA</td>\n",
       "      <td>N100MSRVVL</td>\n",
       "      <td>6.705600</td>\n",
       "      <td>15.240000</td>\n",
       "      <td>108.0</td>\n",
       "      <td>39.624000</td>\n",
       "      <td>...</td>\n",
       "      <td>USGS:332915091025901</td>\n",
       "      <td>456688.018145</td>\n",
       "      <td>1.169617e+06</td>\n",
       "      <td>POINT (456688.0181453624 1169616.855672613)</td>\n",
       "      <td>-68.376000</td>\n",
       "      <td>3</td>\n",
       "      <td>6.7056</td>\n",
       "      <td>15.24</td>\n",
       "      <td>USGS:332915091025901</td>\n",
       "      <td>heads</td>\n",
       "    </tr>\n",
       "    <tr>\n",
       "      <th>USGS:333411090482201</th>\n",
       "      <td>27.60726</td>\n",
       "      <td>NaN</td>\n",
       "      <td>27.60726</td>\n",
       "      <td>1.0</td>\n",
       "      <td>112MRVA</td>\n",
       "      <td>N100MSRVVL</td>\n",
       "      <td>-81.262968</td>\n",
       "      <td>-69.070968</td>\n",
       "      <td>120.0</td>\n",
       "      <td>38.737032</td>\n",
       "      <td>...</td>\n",
       "      <td>USGS:333411090482201</td>\n",
       "      <td>478637.876037</td>\n",
       "      <td>1.179983e+06</td>\n",
       "      <td>POINT (478637.8760365412 1179983.321431023)</td>\n",
       "      <td>-81.262968</td>\n",
       "      <td>2</td>\n",
       "      <td>NaN</td>\n",
       "      <td>NaN</td>\n",
       "      <td>USGS:333411090482201</td>\n",
       "      <td>heads</td>\n",
       "    </tr>\n",
       "    <tr>\n",
       "      <th>USGS:333633090230701</th>\n",
       "      <td>23.77440</td>\n",
       "      <td>NaN</td>\n",
       "      <td>23.77440</td>\n",
       "      <td>1.0</td>\n",
       "      <td>112MRVA</td>\n",
       "      <td>N100MSRVVL</td>\n",
       "      <td>3.048000</td>\n",
       "      <td>15.240000</td>\n",
       "      <td>115.0</td>\n",
       "      <td>38.100000</td>\n",
       "      <td>...</td>\n",
       "      <td>USGS:333633090230701</td>\n",
       "      <td>517102.401121</td>\n",
       "      <td>1.186603e+06</td>\n",
       "      <td>POINT (517102.4011205511 1186603.416371753)</td>\n",
       "      <td>-76.900000</td>\n",
       "      <td>3</td>\n",
       "      <td>3.0480</td>\n",
       "      <td>15.24</td>\n",
       "      <td>USGS:333633090230701</td>\n",
       "      <td>heads</td>\n",
       "    </tr>\n",
       "  </tbody>\n",
       "</table>\n",
       "<p>5 rows × 24 columns</p>\n",
       "</div>"
      ],
      "text/plain": [
       "                          head  head_std  last_head    n  aqfr_cd nat_aqfr_cd  \\\n",
       "site_no                                                                         \n",
       "USGS:323340091085201  19.50720       NaN   19.50720  1.0  112MRVA  N100MSRVVL   \n",
       "USGS:325121091093801  29.87040       NaN   29.87040  1.0  112MRVA  N100MSRVVL   \n",
       "USGS:332915091025901  37.18560       NaN   37.18560  1.0  112MRVA  N100MSRVVL   \n",
       "USGS:333411090482201  27.60726       NaN   27.60726  1.0  112MRVA  N100MSRVVL   \n",
       "USGS:333633090230701  23.77440       NaN   23.77440  1.0  112MRVA  N100MSRVVL   \n",
       "\n",
       "                      screen_botm  screen_top  well_depth    well_el  ...  \\\n",
       "site_no                                                               ...   \n",
       "USGS:323340091085201   -88.177600  -75.985600       115.0  26.822400  ...   \n",
       "USGS:325121091093801   -58.605600  -46.413600        90.0  31.394400  ...   \n",
       "USGS:332915091025901     6.705600   15.240000       108.0  39.624000  ...   \n",
       "USGS:333411090482201   -81.262968  -69.070968       120.0  38.737032  ...   \n",
       "USGS:333633090230701     3.048000   15.240000       115.0  38.100000  ...   \n",
       "\n",
       "                                   site_no              x             y  \\\n",
       "site_no                                                                   \n",
       "USGS:323340091085201  USGS:323340091085201  452922.427646  1.065894e+06   \n",
       "USGS:325121091093801  USGS:325121091093801  450055.327781  1.098664e+06   \n",
       "USGS:332915091025901  USGS:332915091025901  456688.018145  1.169617e+06   \n",
       "USGS:333411090482201  USGS:333411090482201  478637.876037  1.179983e+06   \n",
       "USGS:333633090230701  USGS:333633090230701  517102.401121  1.186603e+06   \n",
       "\n",
       "                                                         geometry  well_botm  \\\n",
       "site_no                                                                        \n",
       "USGS:323340091085201  POINT (452922.4276462687 1065893.772968342) -88.177600   \n",
       "USGS:325121091093801  POINT (450055.3277808698 1098664.367787851) -58.605600   \n",
       "USGS:332915091025901  POINT (456688.0181453624 1169616.855672613) -68.376000   \n",
       "USGS:333411090482201  POINT (478637.8760365412 1179983.321431023) -81.262968   \n",
       "USGS:333633090230701  POINT (517102.4011205511 1186603.416371753) -76.900000   \n",
       "\n",
       "                      category  orig_scbot orig_sctop             obsprefix  \\\n",
       "site_no                                                                       \n",
       "USGS:323340091085201         2         NaN        NaN  USGS:323340091085201   \n",
       "USGS:325121091093801         2         NaN        NaN  USGS:325121091093801   \n",
       "USGS:332915091025901         3      6.7056      15.24  USGS:332915091025901   \n",
       "USGS:333411090482201         2         NaN        NaN  USGS:333411090482201   \n",
       "USGS:333633090230701         3      3.0480      15.24  USGS:333633090230701   \n",
       "\n",
       "                      group  \n",
       "site_no                      \n",
       "USGS:323340091085201  heads  \n",
       "USGS:325121091093801  heads  \n",
       "USGS:332915091025901  heads  \n",
       "USGS:333411090482201  heads  \n",
       "USGS:333633090230701  heads  \n",
       "\n",
       "[5 rows x 24 columns]"
      ]
     },
     "execution_count": 1,
     "metadata": {},
     "output_type": "execute_result"
    }
   ],
   "source": [
    "metadata.head()"
   ]
  },
  {
   "cell_type": "markdown",
   "metadata": {},
   "source": [
    "## Preprocess ag. water use from the IWUM\n",
    "* read agricultural water use estimates from the Irrigation Water Use Model (IWUM; Wilson, 2020)\n",
    "* cull data to the model area\n",
    "* convert rates from cumulative volumes per time period to cubic meters per day\n",
    "* assign open intervals based on raster surfaces of the estimated production zone for agricultural groundwater use"
   ]
  },
  {
   "cell_type": "code",
   "execution_count": 28,
   "metadata": {
    "execution": {
     "iopub.execute_input": "2020-10-07T20:37:17.395178Z",
     "iopub.status.busy": "2020-10-07T20:37:17.394326Z",
     "iopub.status.idle": "2020-10-07T20:37:17.397131Z",
     "shell.execute_reply": "2020-10-07T20:37:17.397535Z"
    }
   },
   "outputs": [],
   "source": [
    "from mapgwm.iwum import preprocess_iwum_pumping\n",
    "\n",
    "iwum_output = test_data_path / 'iwum/irr_wu_1km_1999_to_2017.nc'\n",
    "production_zone_top_raster = test_data_path / 'iwum/est_prod_zone_top.tif'\n",
    "production_zone_botm_raster = test_data_path / 'iwum/est_prod_zone_botm.tif'\n",
    "\n",
    "outfile = output_folder / 'iwum_m3.csv'"
   ]
  },
  {
   "cell_type": "code",
   "execution_count": 29,
   "metadata": {
    "execution": {
     "iopub.execute_input": "2020-10-07T20:37:17.402500Z",
     "iopub.status.busy": "2020-10-07T20:37:17.401870Z",
     "iopub.status.idle": "2020-10-07T20:38:40.760341Z",
     "shell.execute_reply": "2020-10-07T20:38:40.759977Z"
    }
   },
   "outputs": [
    {
     "name": "stdout",
     "output_type": "stream",
     "text": [
      "reading data from ../mapgwm/tests/data/iwum/est_prod_zone_top.tif...\n",
      "finished in 0.14s\n",
      "reading data from ../mapgwm/tests/data/iwum/est_prod_zone_botm.tif...\n",
      "finished in 0.14s\n",
      "\n",
      "reading ../mapgwm/tests/data/extents/ms_delta.shp...\n",
      "--> building dataframe... (may take a while for large shapefiles)\n",
      "Culling 42258 wells outside of the model area defined by ['../mapgwm/tests/data/extents/ms_delta.shp'].\n",
      "wrote output/iwum_m3.csv\n"
     ]
    }
   ],
   "source": [
    "ag_wu = preprocess_iwum_pumping(iwum_output,\n",
    "                                start_date=None,\n",
    "                                end_date=None,\n",
    "                                active_area=delta_extent,\n",
    "                                estimated_production_zone_top=production_zone_top_raster,\n",
    "                                estimated_production_zone_botm=production_zone_botm_raster,\n",
    "                                flux_variable='value',\n",
    "                                nc_crs=5070,\n",
    "                                nc_length_units='meters',\n",
    "                                estimated_production_surface_units='meters',\n",
    "                                model_length_units='meters',\n",
    "                                outfile=outfile)"
   ]
  },
  {
   "cell_type": "code",
   "execution_count": 30,
   "metadata": {
    "execution": {
     "iopub.execute_input": "2020-10-07T20:38:40.771411Z",
     "iopub.status.busy": "2020-10-07T20:38:40.767260Z",
     "iopub.status.idle": "2020-10-07T20:38:40.776953Z",
     "shell.execute_reply": "2020-10-07T20:38:40.776515Z"
    }
   },
   "outputs": [
    {
     "data": {
      "text/html": [
       "<div>\n",
       "<style scoped>\n",
       "    .dataframe tbody tr th:only-of-type {\n",
       "        vertical-align: middle;\n",
       "    }\n",
       "\n",
       "    .dataframe tbody tr th {\n",
       "        vertical-align: top;\n",
       "    }\n",
       "\n",
       "    .dataframe thead th {\n",
       "        text-align: right;\n",
       "    }\n",
       "</style>\n",
       "<table border=\"1\" class=\"dataframe\">\n",
       "  <thead>\n",
       "    <tr style=\"text-align: right;\">\n",
       "      <th></th>\n",
       "      <th>iwum_loc</th>\n",
       "      <th>x</th>\n",
       "      <th>y</th>\n",
       "      <th>screen_top</th>\n",
       "      <th>screen_botm</th>\n",
       "      <th>start_datetime</th>\n",
       "      <th>end_datetime</th>\n",
       "      <th>flux_m3d</th>\n",
       "      <th>geometry</th>\n",
       "    </tr>\n",
       "  </thead>\n",
       "  <tbody>\n",
       "    <tr>\n",
       "      <th>179</th>\n",
       "      <td>179</td>\n",
       "      <td>477955.0</td>\n",
       "      <td>1041285.0</td>\n",
       "      <td>46.24</td>\n",
       "      <td>22.32</td>\n",
       "      <td>2017-06-01</td>\n",
       "      <td>2017-06-30</td>\n",
       "      <td>-2043.222778</td>\n",
       "      <td>POINT (477955 1041285)</td>\n",
       "    </tr>\n",
       "    <tr>\n",
       "      <th>314</th>\n",
       "      <td>314</td>\n",
       "      <td>476955.0</td>\n",
       "      <td>1042285.0</td>\n",
       "      <td>43.85</td>\n",
       "      <td>20.30</td>\n",
       "      <td>2017-06-01</td>\n",
       "      <td>2017-06-30</td>\n",
       "      <td>-2093.868652</td>\n",
       "      <td>POINT (476955 1042285)</td>\n",
       "    </tr>\n",
       "    <tr>\n",
       "      <th>315</th>\n",
       "      <td>315</td>\n",
       "      <td>477955.0</td>\n",
       "      <td>1042285.0</td>\n",
       "      <td>45.02</td>\n",
       "      <td>20.84</td>\n",
       "      <td>2017-06-01</td>\n",
       "      <td>2017-06-30</td>\n",
       "      <td>-1526.927734</td>\n",
       "      <td>POINT (477955 1042285)</td>\n",
       "    </tr>\n",
       "    <tr>\n",
       "      <th>443</th>\n",
       "      <td>443</td>\n",
       "      <td>469955.0</td>\n",
       "      <td>1043285.0</td>\n",
       "      <td>36.24</td>\n",
       "      <td>10.55</td>\n",
       "      <td>2017-06-01</td>\n",
       "      <td>2017-06-30</td>\n",
       "      <td>-1283.890991</td>\n",
       "      <td>POINT (469955 1043285)</td>\n",
       "    </tr>\n",
       "    <tr>\n",
       "      <th>444</th>\n",
       "      <td>444</td>\n",
       "      <td>470955.0</td>\n",
       "      <td>1043285.0</td>\n",
       "      <td>36.40</td>\n",
       "      <td>10.93</td>\n",
       "      <td>2017-06-01</td>\n",
       "      <td>2017-06-30</td>\n",
       "      <td>-1245.565308</td>\n",
       "      <td>POINT (470955 1043285)</td>\n",
       "    </tr>\n",
       "  </tbody>\n",
       "</table>\n",
       "</div>"
      ],
      "text/plain": [
       "     iwum_loc         x          y  screen_top  screen_botm start_datetime  \\\n",
       "179       179  477955.0  1041285.0       46.24        22.32     2017-06-01   \n",
       "314       314  476955.0  1042285.0       43.85        20.30     2017-06-01   \n",
       "315       315  477955.0  1042285.0       45.02        20.84     2017-06-01   \n",
       "443       443  469955.0  1043285.0       36.24        10.55     2017-06-01   \n",
       "444       444  470955.0  1043285.0       36.40        10.93     2017-06-01   \n",
       "\n",
       "    end_datetime     flux_m3d                geometry  \n",
       "179   2017-06-30 -2043.222778  POINT (477955 1041285)  \n",
       "314   2017-06-30 -2093.868652  POINT (476955 1042285)  \n",
       "315   2017-06-30 -1526.927734  POINT (477955 1042285)  \n",
       "443   2017-06-30 -1283.890991  POINT (469955 1043285)  \n",
       "444   2017-06-30 -1245.565308  POINT (470955 1043285)  "
      ]
     },
     "execution_count": 1,
     "metadata": {},
     "output_type": "execute_result"
    }
   ],
   "source": [
    "ag_wu.head()"
   ]
  },
  {
   "cell_type": "markdown",
   "metadata": {},
   "source": [
    "### Plot average pumping at each location"
   ]
  },
  {
   "cell_type": "code",
   "execution_count": 31,
   "metadata": {
    "execution": {
     "iopub.execute_input": "2020-10-07T20:38:40.784181Z",
     "iopub.status.busy": "2020-10-07T20:38:40.783501Z",
     "iopub.status.idle": "2020-10-07T20:38:41.128339Z",
     "shell.execute_reply": "2020-10-07T20:38:41.128940Z"
    }
   },
   "outputs": [
    {
     "data": {
      "image/png": "[encoded data removed]",
      "text/plain": [
       "<Figure size 432x288 with 2 Axes>"
      ]
     },
     "metadata": {
      "needs_background": "light"
     },
     "output_type": "display_data"
    }
   ],
   "source": [
    "site_means = ag_wu.groupby('iwum_loc').mean()\n",
    "ax = site_means.plot(kind='scatter', x='x', y='y', c='flux_m3d', s=1,\n",
    "                     cmap='viridis_r', vmin=site_means.flux_m3d.quantile(0.1))\n",
    "ax.set_aspect(1)"
   ]
  },
  {
   "cell_type": "markdown",
   "metadata": {},
   "source": [
    "## Preprocess non-ag. water use\n",
    "Including data from\n",
    "* the USGS Site-Specific Water Use Database (SWUDS)\n",
    "* USGS data on water use for thermo-electric power generation\n",
    "\n",
    "\n",
    "### SWUDs data\n",
    "* SWUDs data are assumed to come in an Excel spreadsheet, that may have incomplete information on well screen intervals\n",
    "* similar to other preprocessing methods, the data are reprojected and optionally culled to an area of interest\n",
    "* if input data do not have information on the well screen intervals, screen tops and bottoms are sampled from raster surfaces bounding estimated production zones; well depth is used to discriminate between zones\n",
    "* data are resampled to continous monthly values between a specified start and end date- typically bracketing the time range that the pumping should be simulated in the model"
   ]
  },
  {
   "cell_type": "code",
   "execution_count": 32,
   "metadata": {
    "execution": {
     "iopub.execute_input": "2020-10-07T20:38:41.134345Z",
     "iopub.status.busy": "2020-10-07T20:38:41.132811Z",
     "iopub.status.idle": "2020-10-07T20:38:41.137391Z",
     "shell.execute_reply": "2020-10-07T20:38:41.136822Z"
    }
   },
   "outputs": [],
   "source": [
    "from mapgwm.swuds import preprocess_swuds\n",
    "\n",
    "swuds_input = test_data_path / 'swuds/withdrawals_test_dataset.xlsx'\n",
    "worksheet = 'LMG-withdrawals-2000-2018'\n",
    "outfile = output_folder / 'preprocessed_swuds_data.csv'\n",
    "\n",
    "dem = test_data_path / 'rasters/dem_mean_elevs.tif'\n",
    "\n",
    "# raster defining the tops and bottoms of non-agricultural public supply production intervals\n",
    "# from Knierem\n",
    "production_zones = {'mrva': (test_data_path / 'swuds/rasters/pz_MCAQP_top.tif',\n",
    "                             test_data_path / 'swuds/rasters/pz_MCAQP_bot.tif',\n",
    "                             ),\n",
    "                    'mcaq': (test_data_path / 'swuds/rasters/pz_MCAQP_top.tif',\n",
    "                             test_data_path / 'swuds/rasters/pz_MCAQP_bot.tif',\n",
    "                             'feet'),\n",
    "                    'lcaq': (test_data_path / 'swuds/rasters/pz_LCAQP_top.tif',\n",
    "                             test_data_path / 'swuds/rasters/pz_LCAQP_bot.tif')\n",
    "                    }"
   ]
  },
  {
   "cell_type": "code",
   "execution_count": 33,
   "metadata": {
    "execution": {
     "iopub.execute_input": "2020-10-07T20:38:41.141743Z",
     "iopub.status.busy": "2020-10-07T20:38:41.140915Z",
     "iopub.status.idle": "2020-10-07T20:38:43.959090Z",
     "shell.execute_reply": "2020-10-07T20:38:43.958172Z"
    }
   },
   "outputs": [
    {
     "name": "stdout",
     "output_type": "stream",
     "text": [
      "\n",
      "reading ../mapgwm/tests/data/extents/ms_delta.shp...\n",
      "--> building dataframe... (may take a while for large shapefiles)\n",
      "Culling 831 wells outside of the model area defined by ['../mapgwm/tests/data/extents/ms_delta.shp'].\n",
      "reading data from ../mapgwm/tests/data/rasters/dem_mean_elevs.tif...\n",
      "finished in 0.06s\n",
      "reading data from ../mapgwm/tests/data/swuds/rasters/pz_MCAQP_top.tif...\n",
      "finished in 0.00s\n",
      "reading data from ../mapgwm/tests/data/swuds/rasters/pz_MCAQP_bot.tif...\n",
      "finished in 0.00s\n",
      "reading data from ../mapgwm/tests/data/swuds/rasters/pz_MCAQP_top.tif...\n",
      "finished in 0.00s\n",
      "reading data from ../mapgwm/tests/data/swuds/rasters/pz_MCAQP_bot.tif...\n",
      "finished in 0.00s\n",
      "reading data from ../mapgwm/tests/data/swuds/rasters/pz_LCAQP_top.tif...\n",
      "finished in 0.00s\n",
      "reading data from ../mapgwm/tests/data/swuds/rasters/pz_LCAQP_bot.tif...\n",
      "finished in 0.00s\n",
      "processed SWUDS data written to output/preprocessed_swuds_data.csv and in dataframe attribute\n",
      "writing output/preprocessed_swuds_data.shp...\n"
     ]
    }
   ],
   "source": [
    "swuds_results = preprocess_swuds(swuds_input, worksheet,\n",
    "                                 dem=dem, dem_units='feet',\n",
    "                                 start_date=None,\n",
    "                                 end_date=None,\n",
    "                                 active_area=test_data_path / 'extents/ms_delta.shp',\n",
    "                                 production_zones=production_zones,\n",
    "                                 source_crs=4269,\n",
    "                                 dest_crs=5070,\n",
    "                                 data_length_units='feet',\n",
    "                                 data_volume_units='mgal',\n",
    "                                 model_length_units='meters',\n",
    "                                 outfile=outfile)"
   ]
  },
  {
   "cell_type": "markdown",
   "metadata": {},
   "source": [
    "A `mapgwm.swuds.Swuds` object is returned, which has a dataframe attribute:"
   ]
  },
  {
   "cell_type": "code",
   "execution_count": 34,
   "metadata": {
    "execution": {
     "iopub.execute_input": "2020-10-07T20:38:43.972381Z",
     "iopub.status.busy": "2020-10-07T20:38:43.967824Z",
     "iopub.status.idle": "2020-10-07T20:38:43.978822Z",
     "shell.execute_reply": "2020-10-07T20:38:43.978475Z"
    }
   },
   "outputs": [
    {
     "data": {
      "text/html": [
       "<div>\n",
       "<style scoped>\n",
       "    .dataframe tbody tr th:only-of-type {\n",
       "        vertical-align: middle;\n",
       "    }\n",
       "\n",
       "    .dataframe tbody tr th {\n",
       "        vertical-align: top;\n",
       "    }\n",
       "\n",
       "    .dataframe thead th {\n",
       "        text-align: right;\n",
       "    }\n",
       "</style>\n",
       "<table border=\"1\" class=\"dataframe\">\n",
       "  <thead>\n",
       "    <tr style=\"text-align: right;\">\n",
       "      <th></th>\n",
       "      <th>site_no</th>\n",
       "      <th>q</th>\n",
       "      <th>q_monthly</th>\n",
       "      <th>month</th>\n",
       "      <th>well_elev_m</th>\n",
       "      <th>depth_m</th>\n",
       "      <th>screen_bot_m</th>\n",
       "      <th>screen_top_m</th>\n",
       "      <th>x</th>\n",
       "      <th>y</th>\n",
       "      <th>datetime</th>\n",
       "      <th>geometry</th>\n",
       "    </tr>\n",
       "  </thead>\n",
       "  <tbody>\n",
       "    <tr>\n",
       "      <th>2010-01-01</th>\n",
       "      <td>322431090530201</td>\n",
       "      <td>20895.471597</td>\n",
       "      <td>5.52</td>\n",
       "      <td>JAN_VAL</td>\n",
       "      <td>85.0</td>\n",
       "      <td>37.1856</td>\n",
       "      <td>47.8144</td>\n",
       "      <td>67.8144</td>\n",
       "      <td>478430.626345</td>\n",
       "      <td>1.050261e+06</td>\n",
       "      <td>2010-01-01</td>\n",
       "      <td>POINT (478430.6263445358 1050260.766381889)</td>\n",
       "    </tr>\n",
       "    <tr>\n",
       "      <th>2010-02-01</th>\n",
       "      <td>322431090530201</td>\n",
       "      <td>20895.471597</td>\n",
       "      <td>5.52</td>\n",
       "      <td>FEB_VAL</td>\n",
       "      <td>85.0</td>\n",
       "      <td>37.1856</td>\n",
       "      <td>47.8144</td>\n",
       "      <td>67.8144</td>\n",
       "      <td>478430.626345</td>\n",
       "      <td>1.050261e+06</td>\n",
       "      <td>2010-02-01</td>\n",
       "      <td>POINT (478430.6263445358 1050260.766381889)</td>\n",
       "    </tr>\n",
       "    <tr>\n",
       "      <th>2010-03-01</th>\n",
       "      <td>322431090530201</td>\n",
       "      <td>20895.471597</td>\n",
       "      <td>5.52</td>\n",
       "      <td>MAR_VAL</td>\n",
       "      <td>85.0</td>\n",
       "      <td>37.1856</td>\n",
       "      <td>47.8144</td>\n",
       "      <td>67.8144</td>\n",
       "      <td>478430.626345</td>\n",
       "      <td>1.050261e+06</td>\n",
       "      <td>2010-03-01</td>\n",
       "      <td>POINT (478430.6263445358 1050260.766381889)</td>\n",
       "    </tr>\n",
       "    <tr>\n",
       "      <th>2010-04-01</th>\n",
       "      <td>322431090530201</td>\n",
       "      <td>20895.471597</td>\n",
       "      <td>5.52</td>\n",
       "      <td>APR_VAL</td>\n",
       "      <td>85.0</td>\n",
       "      <td>37.1856</td>\n",
       "      <td>47.8144</td>\n",
       "      <td>67.8144</td>\n",
       "      <td>478430.626345</td>\n",
       "      <td>1.050261e+06</td>\n",
       "      <td>2010-04-01</td>\n",
       "      <td>POINT (478430.6263445358 1050260.766381889)</td>\n",
       "    </tr>\n",
       "    <tr>\n",
       "      <th>2010-05-01</th>\n",
       "      <td>322431090530201</td>\n",
       "      <td>20895.471597</td>\n",
       "      <td>5.52</td>\n",
       "      <td>MAY_VAL</td>\n",
       "      <td>85.0</td>\n",
       "      <td>37.1856</td>\n",
       "      <td>47.8144</td>\n",
       "      <td>67.8144</td>\n",
       "      <td>478430.626345</td>\n",
       "      <td>1.050261e+06</td>\n",
       "      <td>2010-05-01</td>\n",
       "      <td>POINT (478430.6263445358 1050260.766381889)</td>\n",
       "    </tr>\n",
       "  </tbody>\n",
       "</table>\n",
       "</div>"
      ],
      "text/plain": [
       "                    site_no             q  q_monthly    month  well_elev_m  \\\n",
       "2010-01-01  322431090530201  20895.471597       5.52  JAN_VAL         85.0   \n",
       "2010-02-01  322431090530201  20895.471597       5.52  FEB_VAL         85.0   \n",
       "2010-03-01  322431090530201  20895.471597       5.52  MAR_VAL         85.0   \n",
       "2010-04-01  322431090530201  20895.471597       5.52  APR_VAL         85.0   \n",
       "2010-05-01  322431090530201  20895.471597       5.52  MAY_VAL         85.0   \n",
       "\n",
       "            depth_m  screen_bot_m  screen_top_m              x             y  \\\n",
       "2010-01-01  37.1856       47.8144       67.8144  478430.626345  1.050261e+06   \n",
       "2010-02-01  37.1856       47.8144       67.8144  478430.626345  1.050261e+06   \n",
       "2010-03-01  37.1856       47.8144       67.8144  478430.626345  1.050261e+06   \n",
       "2010-04-01  37.1856       47.8144       67.8144  478430.626345  1.050261e+06   \n",
       "2010-05-01  37.1856       47.8144       67.8144  478430.626345  1.050261e+06   \n",
       "\n",
       "             datetime                                     geometry  \n",
       "2010-01-01 2010-01-01  POINT (478430.6263445358 1050260.766381889)  \n",
       "2010-02-01 2010-02-01  POINT (478430.6263445358 1050260.766381889)  \n",
       "2010-03-01 2010-03-01  POINT (478430.6263445358 1050260.766381889)  \n",
       "2010-04-01 2010-04-01  POINT (478430.6263445358 1050260.766381889)  \n",
       "2010-05-01 2010-05-01  POINT (478430.6263445358 1050260.766381889)  "
      ]
     },
     "execution_count": 1,
     "metadata": {},
     "output_type": "execute_result"
    }
   ],
   "source": [
    "swuds_results.df.head()"
   ]
  },
  {
   "cell_type": "markdown",
   "metadata": {},
   "source": [
    "## Water use for thermoelectric power generation\n",
    "* similar to the SWUDs data, data for water use related to TE power generation are assumed to come in a spreadsheet\n",
    "* however, the column names might different between different datasets. \n",
    "* therefore, the first step is to read in the data using a function that harmonizes the column names, and then combine the data using ``DataFrame.append()``:"
   ]
  },
  {
   "cell_type": "code",
   "execution_count": 35,
   "metadata": {
    "execution": {
     "iopub.execute_input": "2020-10-07T20:38:43.983191Z",
     "iopub.status.busy": "2020-10-07T20:38:43.982799Z",
     "iopub.status.idle": "2020-10-07T20:38:44.376217Z",
     "shell.execute_reply": "2020-10-07T20:38:44.375832Z"
    }
   },
   "outputs": [],
   "source": [
    "from mapgwm.te_wateruse import read_te_water_use_spreadsheet, preprocess_te_wateruse\n",
    "\n",
    "df2010 = read_te_water_use_spreadsheet(test_data_path / 'swuds/2010_Thermo_Model_Estimates.xlsx',\n",
    "                                       date='2010',\n",
    "                                       x_coord_col='Longitude, decimal degrees',\n",
    "                                       y_coord_col='Latitude, decimal degrees',\n",
    "                                       q_col='USGS-Estimated Annual Withdrawal (Mgal/d)',\n",
    "                                       site_no_col='PLANT CODE',\n",
    "                                       site_name_col='PLANT NAME',\n",
    "                                       source_name_col='NAME OF WATER SOURCE',\n",
    "                                       source_code_col='USGS WATER SOURCE CODE',\n",
    "                                       sheet_name='Report_table_UPDATED', skiprows=2)\n",
    "\n",
    "df2015 = read_te_water_use_spreadsheet(test_data_path / 'swuds/2015_TE_Model_Estimates_lat.long_COMIDs.xlsx',\n",
    "                                   date='2015',\n",
    "                                   x_coord_col='LONGITUDE',\n",
    "                                   y_coord_col='LATITUDE',\n",
    "                                   q_col='WITHDRAWAL',\n",
    "                                   site_no_col='EIA_PLANT_ID',\n",
    "                                   site_name_col='PLANT_NAME',\n",
    "                                   source_name_col='NAME_OF_WATER_SOURCE',\n",
    "                                   source_code_col='WATER_SOURCE_CODE',\n",
    "                                   sheet_name='2015_ANNUAL_WD_CU', skiprows=0)\n",
    "df = df2010.append(df2015)"
   ]
  },
  {
   "cell_type": "markdown",
   "metadata": {},
   "source": [
    "We can then run the data through a similar function to that used for SWUDs:"
   ]
  },
  {
   "cell_type": "code",
   "execution_count": 36,
   "metadata": {
    "execution": {
     "iopub.execute_input": "2020-10-07T20:38:44.420070Z",
     "iopub.status.busy": "2020-10-07T20:38:44.419372Z",
     "iopub.status.idle": "2020-10-07T20:38:45.187733Z",
     "shell.execute_reply": "2020-10-07T20:38:45.188090Z"
    }
   },
   "outputs": [
    {
     "name": "stdout",
     "output_type": "stream",
     "text": [
      "\n",
      "reading ../mapgwm/tests/data/extents/ms_delta.shp...\n",
      "--> building dataframe... (may take a while for large shapefiles)\n",
      "Culling 405 wells outside of the model area defined by ['../mapgwm/tests/data/extents/ms_delta.shp'].\n",
      "reading data from ../mapgwm/tests/data/swuds/rasters/pz_MCAQP_top.tif...\n",
      "finished in 0.12s\n",
      "reading data from ../mapgwm/tests/data/swuds/rasters/pz_MCAQP_bot.tif...\n",
      "finished in 0.13s\n",
      "wrote output/preprocessed_te_data.csv\n",
      "writing output/preprocessed_te_data.shp...\n"
     ]
    }
   ],
   "source": [
    "outfile = output_folder / 'preprocessed_te_data.csv'\n",
    "\n",
    "estimated_production_zone_top = test_data_path / 'swuds/rasters/pz_MCAQP_top.tif'\n",
    "estimated_production_zone_botm = test_data_path / 'swuds/rasters/pz_MCAQP_bot.tif'\n",
    "\n",
    "te_results = preprocess_te_wateruse(df, #dem=dem, dem_units='feet',\n",
    "                                    start_date='2008-01-01',\n",
    "                                    end_date='2017-12-31',\n",
    "                                    active_area=test_data_path /'extents/ms_delta.shp',\n",
    "                                    estimated_production_zone_top=estimated_production_zone_top,\n",
    "                                    estimated_production_zone_botm=estimated_production_zone_botm,\n",
    "                                    estimated_production_surface_units='feet',\n",
    "                                    source_crs=4269,\n",
    "                                    dest_crs=5070,\n",
    "                                    data_volume_units='mgal',\n",
    "                                    model_length_units='meters',\n",
    "                                    outfile=outfile)"
   ]
  },
  {
   "cell_type": "code",
   "execution_count": 37,
   "metadata": {
    "execution": {
     "iopub.execute_input": "2020-10-07T20:38:45.199492Z",
     "iopub.status.busy": "2020-10-07T20:38:45.195487Z",
     "iopub.status.idle": "2020-10-07T20:38:45.206441Z",
     "shell.execute_reply": "2020-10-07T20:38:45.206006Z"
    }
   },
   "outputs": [
    {
     "data": {
      "text/html": [
       "<div>\n",
       "<style scoped>\n",
       "    .dataframe tbody tr th:only-of-type {\n",
       "        vertical-align: middle;\n",
       "    }\n",
       "\n",
       "    .dataframe tbody tr th {\n",
       "        vertical-align: top;\n",
       "    }\n",
       "\n",
       "    .dataframe thead th {\n",
       "        text-align: right;\n",
       "    }\n",
       "</style>\n",
       "<table border=\"1\" class=\"dataframe\">\n",
       "  <thead>\n",
       "    <tr style=\"text-align: right;\">\n",
       "      <th></th>\n",
       "      <th>site_no</th>\n",
       "      <th>date</th>\n",
       "      <th>x</th>\n",
       "      <th>y</th>\n",
       "      <th>screen_top</th>\n",
       "      <th>screen_botm</th>\n",
       "      <th>q</th>\n",
       "      <th>geometry</th>\n",
       "      <th>site_name</th>\n",
       "      <th>source_name</th>\n",
       "    </tr>\n",
       "  </thead>\n",
       "  <tbody>\n",
       "    <tr>\n",
       "      <th>2008-01-01</th>\n",
       "      <td>2059</td>\n",
       "      <td>2008-01-01</td>\n",
       "      <td>497139.150871</td>\n",
       "      <td>1.249816e+06</td>\n",
       "      <td>-147.409514</td>\n",
       "      <td>-162.649514</td>\n",
       "      <td>0.0</td>\n",
       "      <td>POINT (497139.1508711056 1249816.468462982)</td>\n",
       "      <td>L L Wilkins</td>\n",
       "      <td>Wells</td>\n",
       "    </tr>\n",
       "    <tr>\n",
       "      <th>2008-02-01</th>\n",
       "      <td>2059</td>\n",
       "      <td>2008-02-01</td>\n",
       "      <td>497139.150871</td>\n",
       "      <td>1.249816e+06</td>\n",
       "      <td>-147.409514</td>\n",
       "      <td>-162.649514</td>\n",
       "      <td>0.0</td>\n",
       "      <td>POINT (497139.1508711056 1249816.468462982)</td>\n",
       "      <td>L L Wilkins</td>\n",
       "      <td>Wells</td>\n",
       "    </tr>\n",
       "    <tr>\n",
       "      <th>2008-03-01</th>\n",
       "      <td>2059</td>\n",
       "      <td>2008-03-01</td>\n",
       "      <td>497139.150871</td>\n",
       "      <td>1.249816e+06</td>\n",
       "      <td>-147.409514</td>\n",
       "      <td>-162.649514</td>\n",
       "      <td>0.0</td>\n",
       "      <td>POINT (497139.1508711056 1249816.468462982)</td>\n",
       "      <td>L L Wilkins</td>\n",
       "      <td>Wells</td>\n",
       "    </tr>\n",
       "    <tr>\n",
       "      <th>2008-04-01</th>\n",
       "      <td>2059</td>\n",
       "      <td>2008-04-01</td>\n",
       "      <td>497139.150871</td>\n",
       "      <td>1.249816e+06</td>\n",
       "      <td>-147.409514</td>\n",
       "      <td>-162.649514</td>\n",
       "      <td>0.0</td>\n",
       "      <td>POINT (497139.1508711056 1249816.468462982)</td>\n",
       "      <td>L L Wilkins</td>\n",
       "      <td>Wells</td>\n",
       "    </tr>\n",
       "    <tr>\n",
       "      <th>2008-05-01</th>\n",
       "      <td>2059</td>\n",
       "      <td>2008-05-01</td>\n",
       "      <td>497139.150871</td>\n",
       "      <td>1.249816e+06</td>\n",
       "      <td>-147.409514</td>\n",
       "      <td>-162.649514</td>\n",
       "      <td>0.0</td>\n",
       "      <td>POINT (497139.1508711056 1249816.468462982)</td>\n",
       "      <td>L L Wilkins</td>\n",
       "      <td>Wells</td>\n",
       "    </tr>\n",
       "  </tbody>\n",
       "</table>\n",
       "</div>"
      ],
      "text/plain": [
       "            site_no       date              x             y  screen_top  \\\n",
       "2008-01-01     2059 2008-01-01  497139.150871  1.249816e+06 -147.409514   \n",
       "2008-02-01     2059 2008-02-01  497139.150871  1.249816e+06 -147.409514   \n",
       "2008-03-01     2059 2008-03-01  497139.150871  1.249816e+06 -147.409514   \n",
       "2008-04-01     2059 2008-04-01  497139.150871  1.249816e+06 -147.409514   \n",
       "2008-05-01     2059 2008-05-01  497139.150871  1.249816e+06 -147.409514   \n",
       "\n",
       "            screen_botm    q                                     geometry  \\\n",
       "2008-01-01  -162.649514  0.0  POINT (497139.1508711056 1249816.468462982)   \n",
       "2008-02-01  -162.649514  0.0  POINT (497139.1508711056 1249816.468462982)   \n",
       "2008-03-01  -162.649514  0.0  POINT (497139.1508711056 1249816.468462982)   \n",
       "2008-04-01  -162.649514  0.0  POINT (497139.1508711056 1249816.468462982)   \n",
       "2008-05-01  -162.649514  0.0  POINT (497139.1508711056 1249816.468462982)   \n",
       "\n",
       "              site_name source_name  \n",
       "2008-01-01  L L Wilkins       Wells  \n",
       "2008-02-01  L L Wilkins       Wells  \n",
       "2008-03-01  L L Wilkins       Wells  \n",
       "2008-04-01  L L Wilkins       Wells  \n",
       "2008-05-01  L L Wilkins       Wells  "
      ]
     },
     "execution_count": 1,
     "metadata": {},
     "output_type": "execute_result"
    }
   ],
   "source": [
    "te_results.head()"
   ]
  },
  {
   "cell_type": "markdown",
   "metadata": {},
   "source": [
    "### Plot the locations of SWUDs and TE water use"
   ]
  },
  {
   "cell_type": "code",
   "execution_count": 38,
   "metadata": {
    "execution": {
     "iopub.execute_input": "2020-10-07T20:38:45.225664Z",
     "iopub.status.busy": "2020-10-07T20:38:45.222840Z",
     "iopub.status.idle": "2020-10-07T20:38:45.778931Z",
     "shell.execute_reply": "2020-10-07T20:38:45.779363Z"
    }
   },
   "outputs": [
    {
     "data": {
      "text/plain": [
       "Text(0, 0.5, 'Pumpage, in m$^3$/day')"
      ]
     },
     "execution_count": 1,
     "metadata": {},
     "output_type": "execute_result"
    },
    {
     "data": {
      "image/png": "[encoded data removed]",
      "text/plain": [
       "<Figure size 792x612 with 2 Axes>"
      ]
     },
     "metadata": {
      "needs_background": "light"
     },
     "output_type": "display_data"
    }
   ],
   "source": [
    "fig, ax = plt.subplots(figsize=(11, 8.5))\n",
    "ax = swuds_results.df.plot.scatter(x='x', y='y', c='q_monthly', \n",
    "                                   cmap='viridis', \n",
    "                                   vmax=swuds_results.df.q.quantile(0.9),\n",
    "                                   norm=mpl.colors.LogNorm(), ax=ax)\n",
    "te_results.plot.scatter(x='x', y='y', c='r', ax=ax, label='TE sites')\n",
    "ax.legend()\n",
    "ax.set_aspect(1)\n",
    "cax = fig.get_axes()[1]\n",
    "#and we can modify it, i.e.:\n",
    "cax.set_ylabel('Pumpage, in m$^3$/day')"
   ]
  }
 ],
 "metadata": {
  "kernelspec": {
   "display_name": "Python 3",
   "language": "python",
   "name": "python3"
  },
  "language_info": {
   "codemirror_mode": {
    "name": "ipython",
    "version": 3
   },
   "file_extension": ".py",
   "mimetype": "text/x-python",
   "name": "python",
   "nbconvert_exporter": "python",
   "pygments_lexer": "ipython3",
   "version": "3.8.6"
  }
 },
 "nbformat": 4,
 "nbformat_minor": 4
}
